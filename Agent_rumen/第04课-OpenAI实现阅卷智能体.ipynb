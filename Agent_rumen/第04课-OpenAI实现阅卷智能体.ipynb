{
 "cells": [
  {
   "cell_type": "code",
   "execution_count": 1,
   "id": "9a813b87",
   "metadata": {},
   "outputs": [],
   "source": [
    "import os\n",
    "from dotenv import load_dotenv\n",
    "\n",
    "# 加载环境变量\n",
    "load_dotenv()\n",
    "# 从环境变量中读取 DashScope（Qwen）API Key\n",
    "api_key = os.getenv('DASHSCOPE_API_KEY')\n",
    "base_url = \"https://dashscope.aliyuncs.com/compatible-mode/v1\"\n",
    "chat_model = \"qwen-plus\"\n"
   ]
  },
  {
   "cell_type": "code",
   "execution_count": 2,
   "id": "d789577a",
   "metadata": {},
   "outputs": [],
   "source": [
    "from openai import OpenAI\n",
    "client = OpenAI(\n",
    "    api_key = api_key,\n",
    "    base_url = base_url\n",
    ")"
   ]
  },
  {
   "cell_type": "code",
   "execution_count": 3,
   "id": "00436cd5",
   "metadata": {},
   "outputs": [],
   "source": [
    "def get_completion(prompt):\n",
    "    response = client.chat.completions.create(\n",
    "        model = chat_model,\n",
    "        messages = [{\"role\": \"user\", \"content\": prompt}],\n",
    "    )\n",
    "    return response.choices[0].message.content"
   ]
  },
  {
   "cell_type": "code",
   "execution_count": 4,
   "id": "d9bf2a23",
   "metadata": {},
   "outputs": [
    {
     "name": "stdout",
     "output_type": "stream",
     "text": [
      "我是通义千问，阿里巴巴集团旗下的通义实验室自主研发的超大规模语言模型。我可以帮助你回答问题、创作文字，比如写故事、写公文、写邮件、写剧本、逻辑推理、编程等等，还能表达观点，玩游戏等。如果你有任何问题或需要帮助，欢迎随时告诉我！\n"
     ]
    }
   ],
   "source": [
    "\n",
    "response = get_completion(\"你是谁？\")\n",
    "print(response)"
   ]
  },
  {
   "cell_type": "code",
   "execution_count": 5,
   "id": "61a25db7",
   "metadata": {},
   "outputs": [],
   "source": [
    "import json\n",
    "import re\n",
    "\n",
    "def extract_json_content(text):\n",
    "    # 这个函数的目标是提取大模型输出内容中的json部分，并对json中的换行符、首位空白符进行删除\n",
    "    text = text.replace(\"\\n\",\"\")\n",
    "    pattern = r\"```json(.*?)```\"\n",
    "    matches = re.findall(pattern, text, re.DOTALL)\n",
    "    if matches:\n",
    "        return matches[0].strip()\n",
    "    return text\n",
    "\n",
    "class JsonOutputParser:\n",
    "    def parse(self, result):\n",
    "        # 这个函数的目标是把json字符串解析成python对象\n",
    "        # 其实这里写的这个函数性能很差，经常解析失败，有很大的优化空间\n",
    "        try:\n",
    "            result = extract_json_content(result)\n",
    "            parsed_result = json.loads(result)\n",
    "            return parsed_result\n",
    "        except json.JSONDecodeError as e:\n",
    "            raise Exception(f\"Invalid json output: {result}\") from e"
   ]
  },
  {
   "cell_type": "code",
   "execution_count": 12,
   "id": "a237ac5e",
   "metadata": {},
   "outputs": [],
   "source": [
    "class GradingOpenAI:\n",
    "    def __init__(self):\n",
    "        self.client = client\n",
    "        # 对模型的输出进行解析\n",
    "        self.output_parser = JsonOutputParser()\n",
    "        self.template = \"\"\"你是一位中国专利代理师考试阅卷专家，\n",
    "擅长根据给定的题目和答案为考生生成符合要求的评分和中文评语，\n",
    "并按照特定的格式输出。\n",
    "你的任务是，根据我输入的考题和答案，针对考生的作答生成评分和中文的评语，并以JSON格式返回。\n",
    "阅卷标准适当宽松一些，只要考生回答出基本的意思就应当给分。\n",
    "答案如果有数字标注，含义是考生如果答出这个知识点，这道题就会得到几分。\n",
    "生成的中文评语需要能够被json.loads()这个函数正确解析。\n",
    "生成的整个中文评语需要用英文的双引号包裹，在被包裹的字符串内部，请用中文的双引号。\n",
    "中文评语中不可以出现换行符、转义字符等等。\n",
    "\n",
    "输出格式为JSON:\n",
    "{{\n",
    "  \"llmgetscore\": 0,\n",
    "  \"llmcomments\": \"中文评语\"\n",
    "}}\n",
    "\n",
    "比较学生的回答与正确答案，\n",
    "并给出满分为10分的评分和中文评语。 \n",
    "题目：{ques_title} \n",
    "答案：{answer} \n",
    "学生的回复：{reply}\"\"\"\n",
    "\n",
    "    def create_prompt(self, ques_title, answer, reply):\n",
    "      return self.template.format(\n",
    "          ques_title=ques_title,\n",
    "          answer=answer,\n",
    "          reply=reply\n",
    "      )\n",
    "    \n",
    "    def grade_answer(self, ques_title, answer, reply):\n",
    "      success = False\n",
    "      while not success:\n",
    "          # 这里是一个不得已的权宜之计\n",
    "          # 上面的json解析函数不是表现很差吗，那就多生成几遍，直到解析成功\n",
    "          # 对大模型生成的内容先解析一下，如果解析失败，就再让大模型生成一遍\n",
    "          try:\n",
    "              response = client.chat.completions.create(\n",
    "                  model=chat_model,\n",
    "                  messages=[\n",
    "                      {\"role\": \"system\", \"content\": \"你是一位专业的考试阅卷专家。\"},\n",
    "                      {\"role\": \"user\", \"content\": self.create_prompt(ques_title, answer, reply)}\n",
    "                  ],\n",
    "                  temperature=0.7\n",
    "              )\n",
    "\n",
    "              result = self.output_parser.parse(response.choices[0].message.content)\n",
    "              success = True\n",
    "          except Exception as e:\n",
    "              print(f\"Error occurred: {e}\")\n",
    "              continue\n",
    "\n",
    "      return result['llmgetscore'], result['llmcomments']\n",
    "    \n",
    "    def run(self, input_data):\n",
    "        output = []\n",
    "        for item in input_data:\n",
    "            score, comment = self.grade_answer(\n",
    "                item['ques_title'], \n",
    "                item['answer'], \n",
    "                item['reply']\n",
    "            )\n",
    "            item['llmgetscore'] = score\n",
    "            item['llmcomments'] = comment\n",
    "            output.append(item)\n",
    "        return output\n",
    "grading_openai = GradingOpenAI()"
   ]
  },
  {
   "cell_type": "code",
   "execution_count": 10,
   "id": "171564e9",
   "metadata": {},
   "outputs": [],
   "source": [
    "# 示例输入数据\n",
    "input_data = [\n",
    " {'ques_title': '请解释共有技术特征、区别技术特征、附加技术特征、必要技术特征的含义',\n",
    "  'answer': '共有技术特征：与最接近的现有技术共有的技术特征（2.5分）； 区别技术特征：区别于最接近的现有技术的技术特征（2.5分）； 附加技术特征：对所引用的技术特征进一步限定的技术特征，增加的技术特征（2.5分）； 必要技术特征：为解决其技术问题所不可缺少的技术特征（2.5分）。',\n",
    "  'fullscore': 10,\n",
    "  'reply': '共有技术特征：与所对比的技术方案相同的技术特征\\n区别技术特征：与所对比的技术方案相区别的技术特征\\n附加技术特征：对引用的技术特征进一步限定的技术特征\\n必要技术特征：解决技术问题必须可少的技术特征'},\n",
    " {'ques_title': '请解释前序部分、特征部分、引用部分、限定部分',\n",
    "  'answer': '前序部分：独权中，主题+与最接近的现有技术共有的技术特征，在其特征在于之前（2.5分）； 特征部分：独权中，与区别于最接近的现有技术的技术特征，在其特征在于之后（2.5分）；引用部分：从权中引用的权利要求编号及主题 （2.5分）；限定部分：从权中附加技术特征（2.5分）。',\n",
    "  'fullscore': 10,\n",
    "  'reply': '前序部分：独立权利要求中与现有技术相同的技术特征\\n特征部分：独立权利要求中区别于现有技术的技术特征\\n引用部分：从属权利要求中引用其他权利要求的部分\\n限定部分：对所引用的权利要求进一步限定的技术特征'}]"
   ]
  },
  {
   "cell_type": "code",
   "execution_count": 13,
   "id": "8cc92215",
   "metadata": {},
   "outputs": [
    {
     "name": "stdout",
     "output_type": "stream",
     "text": [
      "[{'ques_title': '请解释共有技术特征、区别技术特征、附加技术特征、必要技术特征的含义', 'answer': '共有技术特征：与最接近的现有技术共有的技术特征（2.5分）； 区别技术特征：区别于最接近的现有技术的技术特征（2.5分）； 附加技术特征：对所引用的技术特征进一步限定的技术特征，增加的技术特征（2.5分）； 必要技术特征：为解决其技术问题所不可缺少的技术特征（2.5分）。', 'fullscore': 10, 'reply': '共有技术特征：与所对比的技术方案相同的技术特征\\n区别技术特征：与所对比的技术方案相区别的技术特征\\n附加技术特征：对引用的技术特征进一步限定的技术特征\\n必要技术特征：解决技术问题必须可少的技术特征', 'llmgetscore': 10, 'llmcomments': '考生准确回答了共有技术特征、区别技术特征、附加技术特征和必要技术特征的基本含义，表达清晰，符合评分标准。虽然个别用词略有简化，但核心意思与参考答案一致，因此给予满分。'}, {'ques_title': '请解释前序部分、特征部分、引用部分、限定部分', 'answer': '前序部分：独权中，主题+与最接近的现有技术共有的技术特征，在其特征在于之前（2.5分）； 特征部分：独权中，与区别于最接近的现有技术的技术特征，在其特征在于之后（2.5分）；引用部分：从权中引用的权利要求编号及主题 （2.5分）；限定部分：从权中附加技术特征（2.5分）。', 'fullscore': 10, 'reply': '前序部分：独立权利要求中与现有技术相同的技术特征\\n特征部分：独立权利要求中区别于现有技术的技术特征\\n引用部分：从属权利要求中引用其他权利要求的部分\\n限定部分：对所引用的权利要求进一步限定的技术特征', 'llmgetscore': 10, 'llmcomments': '该回答准确地把握了前序部分、特征部分、引用部分和限定部分的核心含义，虽然未完全采用标准表述，但基本意思与参考答案一致，符合适当宽松的评分标准。'}]\n"
     ]
    }
   ],
   "source": [
    "graded_data = grading_openai.run(input_data)\n",
    "print(graded_data)"
   ]
  }
 ],
 "metadata": {
  "kernelspec": {
   "display_name": "llm_env",
   "language": "python",
   "name": "python3"
  },
  "language_info": {
   "codemirror_mode": {
    "name": "ipython",
    "version": 3
   },
   "file_extension": ".py",
   "mimetype": "text/x-python",
   "name": "python",
   "nbconvert_exporter": "python",
   "pygments_lexer": "ipython3",
   "version": "3.10.18"
  }
 },
 "nbformat": 4,
 "nbformat_minor": 5
}
