{
 "cells": [
  {
   "cell_type": "markdown",
   "id": "e8ce009e",
   "metadata": {},
   "source": [
    "简历信息提取是企业中经常遇到的场景，我们这一课仅用OpenAI来实现这一功能。"
   ]
  },
  {
   "cell_type": "code",
   "execution_count": 1,
   "id": "2f70e308",
   "metadata": {},
   "outputs": [],
   "source": [
    "import os\n",
    "from dotenv import load_dotenv\n",
    "\n",
    "# 加载环境变量\n",
    "load_dotenv()\n",
    "# 从环境变量中读取 DashScope（Qwen）API Key\n",
    "api_key = os.getenv('DASHSCOPE_API_KEY')\n",
    "base_url = \"https://dashscope.aliyuncs.com/compatible-mode/v1\"\n",
    "chat_model = \"qwen-plus\""
   ]
  },
  {
   "cell_type": "code",
   "execution_count": 2,
   "id": "e97ef08e",
   "metadata": {},
   "outputs": [],
   "source": [
    "from openai import OpenAI\n",
    "client = OpenAI(\n",
    "    api_key = api_key,\n",
    "    base_url = base_url\n",
    ")"
   ]
  },
  {
   "cell_type": "code",
   "execution_count": 3,
   "id": "d03068f7",
   "metadata": {},
   "outputs": [],
   "source": [
    "def get_completion(prompt):\n",
    "    response = client.chat.completions.create(\n",
    "        model = chat_model,\n",
    "        messages = [{\"role\": \"user\", \"content\": prompt}],\n",
    "    )\n",
    "    return response.choices[0].message.content"
   ]
  },
  {
   "cell_type": "code",
   "execution_count": 4,
   "id": "191bd998",
   "metadata": {},
   "outputs": [
    {
     "name": "stdout",
     "output_type": "stream",
     "text": [
      "我是通义千问，阿里巴巴集团旗下的通义实验室自主研发的超大规模语言模型。我可以帮助你回答问题、创作文字，比如写故事、写公文、写邮件、写剧本、逻辑推理、编程等等，还能表达观点，玩游戏等。如果你有任何问题或需要帮助，欢迎随时告诉我！\n"
     ]
    }
   ],
   "source": [
    "response = get_completion(\"你是谁？\")\n",
    "print(response)"
   ]
  },
  {
   "cell_type": "code",
   "execution_count": 5,
   "id": "d665ca11",
   "metadata": {},
   "outputs": [],
   "source": [
    "from datetime import datetime, date\n",
    "from typing import List, Optional\n",
    "from pydantic import BaseModel, Field, field_validator, EmailStr, model_validator"
   ]
  },
  {
   "cell_type": "code",
   "execution_count": 7,
   "id": "4fe9fd3d",
   "metadata": {},
   "outputs": [],
   "source": [
    "# 定义一个pydantic模型\n",
    "\n",
    "class Resume(BaseModel):\n",
    "    name: Optional[str] = Field(None, description=\"求职者姓名，如果没找到就置为空字符串\")\n",
    "    city: Optional[str] = Field(None, description=\"求职者居住地，如果没找到就置为空字符串\")\n",
    "    birthday: Optional[str] = Field(None, description=\"求职者生日，如果没找到就置为空字符串\")\n",
    "    phone: Optional[str] = Field(None, description=\"求职者手机号，如果没找到就置为空字符串\")\n",
    "    email: Optional[str] = Field(None, description=\"求职者邮箱，如果没找到就置为空字符串\")\n",
    "    education: Optional[List[str]] = Field(None, description=\"求职者教育背景\")\n",
    "    experience: Optional[List[str]] = Field(None, description=\"求职者工作或实习经历，如果没找到就置为空字符串\")\n",
    "    project: Optional[List[str]] = Field(None, description=\"求职者项目经历，如果没找到就置为空字符串\")\n",
    "    certificates: Optional[List[str]] = Field(None, description=\"求职者资格证书，如果没找到就置为空字符串\")\n",
    "\n",
    "    @field_validator(\"birthday\", mode=\"before\")\n",
    "    def validate_and_convert_date(cls, raw_date):\n",
    "        if raw_date is None:\n",
    "            return None\n",
    "        if isinstance(raw_date, str):\n",
    "            # List of acceptable date formats\n",
    "            date_formats = ['%d-%m-%Y', '%Y-%m-%d', '%d/%m/%Y', '%m-%d-%Y']\n",
    "            for fmt in date_formats:\n",
    "                try:\n",
    "                    # Attempt to parse the date string with the current format\n",
    "                    parsed_date = datetime.strptime(raw_date, fmt).date()\n",
    "                    # Return the date in MM-DD-YYYY format as a string\n",
    "                    return parsed_date.strftime('%m-%d-%Y')\n",
    "                except ValueError:\n",
    "                    continue  # Try the next format\n",
    "            # If none of the formats match, raise an error\n",
    "            raise ValueError(\n",
    "                f\"Invalid date format for 'consultation_date'. Expected one of: {', '.join(date_formats)}.\"\n",
    "            )\n",
    "        if isinstance(raw_date, date):\n",
    "            # Convert date object to MM-DD-YYYY format\n",
    "            return raw_date.strftime('%m-%d-%Y')\n",
    "\n",
    "        raise ValueError(\n",
    "            \"Invalid type for 'consultation_date'. Must be a string or a date object.\"\n",
    "        )\n",
    "\n",
    "class ResumeAi:\n",
    "    def __init__(self):\n",
    "        self.client = client\n",
    "        self.resume_profile = Resume()\n",
    "        self.output_schema = self.resume_profile.model_json_schema()\n",
    "\n",
    "        self.template = \"\"\"\n",
    "        You are an expert in analyzing resumes. Use the following JSON schema to extract relevant information:\n",
    "        ```json\n",
    "        {output_schema}\n",
    "        ```json\n",
    "        Extract the information from the following document and provide a structured JSON response strictly adhering to the schema above. \n",
    "        Please remove any ```json ``` characters from the output. Do not make up any information. If a field cannot be extracted, mark it as `n/a`.\n",
    "        Document:\n",
    "        ----------------\n",
    "        {resume_content}\n",
    "        ----------------\n",
    "        \"\"\"\n",
    "\n",
    "    def create_prompt(self,output_schema,resume_content):\n",
    "        return self.template.format(output_schema=output_schema,resume_content=resume_content)\n",
    "    \n",
    "    def run(self,resume_content):\n",
    "        try:\n",
    "            response = client.chat.completions.create(\n",
    "                model=chat_model,\n",
    "                # 不是所有模型都支持response_format，要看一下调用的模型是否支持这个参数\n",
    "                # 千问、智谱的模型一般支持\n",
    "                response_format={ \"type\": \"json_object\" },\n",
    "                messages=[\n",
    "                    {\"role\": \"system\", \"content\": \"你是一位专业的简历信息提取专家。\"},\n",
    "                    {\"role\": \"user\", \"content\": self.create_prompt(self.output_schema, resume_content)}\n",
    "                ],\n",
    "            )\n",
    "            result = response.choices[0].message.content\n",
    "        except Exception as e:\n",
    "            print(f\"Error: {e}\")\n",
    "        return result\n",
    "        \n",
    "    \n",
    "resume_openai = ResumeAi()"
   ]
  },
  {
   "cell_type": "code",
   "execution_count": 9,
   "id": "fe7613c5",
   "metadata": {},
   "outputs": [],
   "source": [
    "# 示例输入数据\n",
    "input_data = \"\"\"\n",
    "59a488639e2f882c1nR_2NS6EFJXwZG-UPKaR-WhnPQ~\n",
    "杜素宁\n",
    "MOBILE : 15904130130\n",
    "E-MAIL：0da08x@163.com\n",
    "Address:云南省昭通市\n",
    "个人信息\n",
    "民族：汉 籍贯：云南省昭通市 性别：女 年龄: 22\n",
    "教育经历\n",
    "2008.08-2012.08 北方工业大学 食品科学与工程 学士学位\n",
    "主要经历\n",
    "Project Experience\n",
    "工作经历：\n",
    "1997.06-2010.07 江苏华英企业管理股份有限公司 水处理工程师\n",
    "工作内容:\n",
    "1.负责部门内日常用品的采购；2.做好与公司内其他部门的对接工作；3.协助部门进行办公环境管理和后勤管理工作；4.销\n",
    "售人员与公司的信息交流，随时保持与市场销售人员的电话沟通，销售政策及公司文件的及时传达。5.领导交办的其他工作\n",
    "工作经历：\n",
    "1991年12月-2012年 和宇健康科技股份有限公司 市场营销专员\n",
    "09月\n",
    "工作内容:\n",
    "1、做好消费宾客的迎、送接待工作，接受宾客各种渠道的预定并加以落实；2、礼貌用语，详细做好预订记录；3、了解和\n",
    "收集宾客的建议和意见并及时反馈给上级领导；4、以规范的服务礼节，树立公司品牌优质，文雅的服务形象。\n",
    "工作经历：\n",
    "2007/05-2010/03 深圳市有棵树科技有限公司 拼多多运营\n",
    "工作内容:\n",
    "1.负责规定区域的产品销售，做好产品介绍，确认订单，回款等销售相关工作；2.做好客户背景资料调查，竞争对手分析，\n",
    "产品适用性分析；3.按公司规定完成SalesPipeline信息记录\n",
    "\"\"\""
   ]
  },
  {
   "cell_type": "code",
   "execution_count": 10,
   "id": "e5e244f7",
   "metadata": {},
   "outputs": [
    {
     "name": "stdout",
     "output_type": "stream",
     "text": [
      "{\n",
      "  \"name\": \"杜素宁\",\n",
      "  \"city\": \"云南省昭通市\",\n",
      "  \"birthday\": \"1997年\",\n",
      "  \"phone\": \"15904130130\",\n",
      "  \"email\": \"0da08x@163.com\",\n",
      "  \"education\": [\n",
      "    \"2008.08-2012.08 北方工业大学 食品科学与工程 学士学位\"\n",
      "  ],\n",
      "  \"experience\": [\n",
      "    \"1997.06-2010.07 江苏华英企业管理股份有限公司 水处理工程师 工作内容: 1.负责部门内日常用品的采购；2.做好与公司内其他部门的对接工作；3.协助部门进行办公环境管理和后勤管理工作；4.销售人员与公司的信息交流，随时保持与市场销售人员的电话沟通，销售政策及公司文件的及时传达。5.领导交办的其他工作\",\n",
      "    \"1991年12月-2012年 和宇健康科技股份有限公司 市场营销专员 工作内容: 1、做好消费宾客的迎、送接待工作，接受宾客各种渠道的预定并加以落实；2、礼貌用语，详细做好预订记录；3、了解和收集宾客的建议和意见并及时反馈给上级领导；4、以规范的服务礼节，树立公司品牌优质，文雅的服务形象。\",\n",
      "    \"2007/05-2010/03 深圳市有棵树科技有限公司 拼多多运营 工作内容: 1.负责规定区域的产品销售，做好产品介绍，确认订单，回款等销售相关工作；2.做好客户背景资料调查，竞争对手分析，产品适用性分析；3.按公司规定完成SalesPipeline信息记录\"\n",
      "  ],\n",
      "  \"project\": [],\n",
      "  \"certificates\": []\n",
      "}\n"
     ]
    }
   ],
   "source": [
    "# 运行智能体\n",
    "rec_data = resume_openai.run(input_data)\n",
    "print(rec_data)"
   ]
  },
  {
   "cell_type": "markdown",
   "id": "ac87b81e",
   "metadata": {},
   "source": []
  }
 ],
 "metadata": {
  "kernelspec": {
   "display_name": "llm_env",
   "language": "python",
   "name": "python3"
  },
  "language_info": {
   "codemirror_mode": {
    "name": "ipython",
    "version": 3
   },
   "file_extension": ".py",
   "mimetype": "text/x-python",
   "name": "python",
   "nbconvert_exporter": "python",
   "pygments_lexer": "ipython3",
   "version": "3.10.18"
  }
 },
 "nbformat": 4,
 "nbformat_minor": 5
}
