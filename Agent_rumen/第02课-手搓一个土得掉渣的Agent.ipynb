{
 "cells": [
  {
   "cell_type": "markdown",
   "id": "4cb57db1",
   "metadata": {},
   "source": [
    "第02课-手搓一个土得掉渣的Agent.ipynb"
   ]
  },
  {
   "cell_type": "code",
   "execution_count": 2,
   "id": "57ac107e",
   "metadata": {},
   "outputs": [
    {
     "name": "stdout",
     "output_type": "stream",
     "text": [
      "sk-6a28680f8c7e4174b41ce71e235de4c8 https://dashscope.aliyuncs.com/compatible-mode/v1 qwen-plus\n"
     ]
    }
   ],
   "source": [
    "import os\n",
    "from dotenv import load_dotenv\n",
    "\n",
    "# 加载环境变量\n",
    "load_dotenv()\n",
    "# 从环境变量中读取 DashScope（Qwen）API Key\n",
    "api_key = os.getenv('DASHSCOPE_API_KEY')\n",
    "base_url = \"https://dashscope.aliyuncs.com/compatible-mode/v1\"\n",
    "chat_model = \"qwen-plus\"\n",
    "\n",
    "print(api_key,base_url,chat_model)"
   ]
  },
  {
   "cell_type": "code",
   "execution_count": 5,
   "id": "42862d17",
   "metadata": {},
   "outputs": [],
   "source": [
    "from openai import OpenAI\n",
    "client = OpenAI(\n",
    "    api_key = api_key,\n",
    "    base_url = base_url\n",
    ")"
   ]
  },
  {
   "cell_type": "code",
   "execution_count": 6,
   "id": "5e643e5e",
   "metadata": {},
   "outputs": [],
   "source": [
    "def get_completion(prompt):\n",
    "    response = client.chat.completions.create(\n",
    "        model = chat_model,\n",
    "        messages = [{\"role\": \"user\", \"content\": prompt}],\n",
    "    )\n",
    "    return response.choices[0].message.content"
   ]
  },
  {
   "cell_type": "code",
   "execution_count": 7,
   "id": "58326da0",
   "metadata": {},
   "outputs": [
    {
     "name": "stdout",
     "output_type": "stream",
     "text": [
      "我是通义千问，阿里巴巴集团旗下的通义实验室自主研发的超大规模语言模型。我可以帮助你回答问题、创作文字，比如写故事、写公文、写邮件、写剧本、逻辑推理、编程等等，还能表达观点，玩游戏等。如果你有任何问题或需要帮助，欢迎随时告诉我！\n"
     ]
    }
   ],
   "source": [
    "\n",
    "response = get_completion(\"你是谁？\")\n",
    "print(response)"
   ]
  },
  {
   "cell_type": "code",
   "execution_count": 8,
   "id": "c9a63674",
   "metadata": {},
   "outputs": [],
   "source": [
    "sys_prompt = \"\"\"你是一个聪明的客服。您将能够根据用户的问题将不同的任务分配给不同的人。您有以下业务线：\n",
    "1.用户注册。如果用户想要执行这样的操作，您应该发送一个带有\"registered workers\"的特殊令牌。并告诉用户您正在调用它。\n",
    "2.用户数据查询。如果用户想要执行这样的操作，您应该发送一个带有\"query workers\"的特殊令牌。并告诉用户您正在调用它。\n",
    "3.删除用户数据。如果用户想执行这种类型的操作，您应该发送一个带有\"delete workers\"的特殊令牌。并告诉用户您正在调用它。\n",
    "\"\"\"\n",
    "registered_prompt = \"\"\"\n",
    "您的任务是根据用户信息存储数据。您需要从用户那里获得以下信息：\n",
    "1.用户名、性别、年龄\n",
    "2.用户设置的密码\n",
    "3.用户的电子邮件地址\n",
    "如果用户没有提供此信息，您需要提示用户提供。如果用户提供了此信息，则需要将此信息存储在数据库中，并告诉用户注册成功。\n",
    "存储方法是使用SQL语句。您可以使用SQL编写插入语句，并且需要生成用户ID并将其返回给用户。\n",
    "如果用户没有新问题，您应该回复带有 \"customer service\" 的特殊令牌，以结束任务。\n",
    "\"\"\"\n",
    "query_prompt = \"\"\"\n",
    "您的任务是查询用户信息。您需要从用户那里获得以下信息：\n",
    "1.用户ID\n",
    "2.用户设置的密码\n",
    "如果用户没有提供此信息，则需要提示用户提供。如果用户提供了此信息，那么需要查询数据库。如果用户ID和密码匹配，则需要返回用户的信息。\n",
    "如果用户没有新问题，您应该回复带有 \"customer service\" 的特殊令牌，以结束任务。\n",
    "\"\"\"\n",
    "delete_prompt = \"\"\"\n",
    "您的任务是删除用户信息。您需要从用户那里获得以下信息：\n",
    "1.用户ID\n",
    "2.用户设置的密码\n",
    "3.用户的电子邮件地址\n",
    "如果用户没有提供此信息，则需要提示用户提供该信息。\n",
    "如果用户提供了这些信息，则需要查询数据库。如果用户ID和密码匹配，您需要通知用户验证码已发送到他们的电子邮件，需要进行验证。\n",
    "如果用户没有新问题，您应该回复带有 \"customer service\" 的特殊令牌，以结束任务。\n",
    "\"\"\""
   ]
  },
  {
   "cell_type": "code",
   "execution_count": 12,
   "id": "1543c7c6",
   "metadata": {},
   "outputs": [],
   "source": [
    "class SmartAssistant:\n",
    "    def __init__(self):\n",
    "        self.sys_prompt = sys_prompt\n",
    "        self.registered_prompt = registered_prompt\n",
    "        self.query_prompt = query_prompt\n",
    "        self.delete_prompt = delete_prompt\n",
    "\n",
    "        self.client = client\n",
    "\n",
    "        # Using a dictionary to store different sets of messages\n",
    "        self.messages = {\n",
    "            \"system\": [{\"role\": \"system\", \"content\": self.sys_prompt}],\n",
    "            \"registered\": [{\"role\": \"system\", \"content\": self.registered_prompt}],\n",
    "            \"query\": [{\"role\": \"system\", \"content\": self.query_prompt}],\n",
    "            \"delete\": [{\"role\": \"system\", \"content\": self.delete_prompt}]\n",
    "        }\n",
    "        # Current assignment for handling messages\n",
    "        self.current_assignment = \"system\"\n",
    "    \n",
    "    def get_response(self, user_input):\n",
    "        self.messages[self.current_assignment].append({\"role\": \"user\", \"content\": user_input})\n",
    "        while True:\n",
    "            response = self.client.chat.completions.create(\n",
    "                model = chat_model,\n",
    "                messages= self.messages[self.current_assignment],\n",
    "                temperature = 0.9,\n",
    "                stream = False,\n",
    "                max_tokens =2000)\n",
    "            \n",
    "            ai_response = response.choices[0].message.content\n",
    "\n",
    "            if \"registered workers\" in ai_response:\n",
    "                self.current_assignment = \"registered\"\n",
    "                print(\"意图识别:\",ai_response)\n",
    "                print(\"switch to <registered>\")\n",
    "                self.messages[self.current_assignment].append({\"role\": \"user\", \"content\": ai_response})\n",
    "            if \"query workers\" in ai_response:\n",
    "                self.current_assignment = \"query\"\n",
    "                print(\"意图识别:\",ai_response)\n",
    "                print(\"switch to <query>\")\n",
    "                self.messages[self.current_assignment].append({\"role\": \"user\", \"content\": ai_response})\n",
    "            if \"delete workers\" in ai_response:\n",
    "                self.current_assignment = \"delete\"\n",
    "                print(\"意图识别:\",ai_response)\n",
    "                print(\"switch to <delete>\")\n",
    "            elif \"customer service\" in ai_response:\n",
    "                print(\"意图识别:\",ai_response)\n",
    "                print(\"switch to <customer service>\")\n",
    "                self.messages[\"system\"] += self.messages[self.current_assignment]\n",
    "                self.current_assignment = \"system\"\n",
    "                return ai_response\n",
    "            else:\n",
    "                self.messages[self.current_assignment].append({\"role\": \"assistant\", \"content\": ai_response})\n",
    "                return ai_response\n",
    "    def start_conversation(self):\n",
    "\n",
    "        while True:\n",
    "            user_input = input(\"User: \")\n",
    "            if user_input.lower() in ['exit', 'quit']:\n",
    "                print(\"Exiting conversation.\")\n",
    "                break\n",
    "            response = self.get_response(user_input)\n",
    "            print(\"Assistant:\", response)\n"
   ]
  },
  {
   "cell_type": "code",
   "execution_count": 14,
   "id": "aeb015bd",
   "metadata": {},
   "outputs": [
    {
     "name": "stdout",
     "output_type": "stream",
     "text": [
      "Assistant: 您好，我是一个AI助手，不太明白您说的“我是单欠打”是什么意思。您可以提供更多的信息给我吗？这样我就能更好地帮助您了。\n",
      "Assistant: 我理解您可能在表达一些情绪，但请使用适当的语言进行沟通。如果您有任何问题或需要帮助，请告诉我，我会尽力提供支持。同时，请确保我们的交流保持尊重和礼貌。如果您有具体的问题或需求，比如注册、查询或删除用户数据，请明确告知，我将为您指引正确的流程。\n",
      "Assistant: 看起来您可能正在经历一些情绪困扰。如果您愿意分享更多具体的问题或需要帮助的地方，我很乐意为您提供支持。无论是注册、数据查询还是删除用户信息，我都可以协助您处理。请告诉我您需要什么样的帮助？\n",
      "Exiting conversation.\n"
     ]
    }
   ],
   "source": [
    "ai = SmartAssistant()\n",
    "ai.start_conversation()"
   ]
  },
  {
   "cell_type": "code",
   "execution_count": null,
   "id": "2e5e87b0",
   "metadata": {},
   "outputs": [
    {
     "name": "stdout",
     "output_type": "stream",
     "text": [
      "CWD: d:\\ZXW2025\\Code\\LLM_learning\\Agent_rumen\n",
      "env_path: d:\\ZXW2025\\Code\\LLM_learning\\Agent_rumen\\.env\n",
      "loaded: True\n",
      "HAS KEY: True\n",
      "VALUE: 'sk-6a28680f8c7e4174b41ce71e235de4c8'\n"
     ]
    }
   ],
   "source": []
  }
 ],
 "metadata": {
  "kernelspec": {
   "display_name": "llm_env",
   "language": "python",
   "name": "python3"
  },
  "language_info": {
   "codemirror_mode": {
    "name": "ipython",
    "version": 3
   },
   "file_extension": ".py",
   "mimetype": "text/x-python",
   "name": "python",
   "nbconvert_exporter": "python",
   "pygments_lexer": "ipython3",
   "version": "3.10.18"
  }
 },
 "nbformat": 4,
 "nbformat_minor": 5
}
