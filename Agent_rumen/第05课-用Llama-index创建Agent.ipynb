{
 "cells": [
  {
   "cell_type": "markdown",
   "id": "4d628b77",
   "metadata": {},
   "source": [
    "首先定义工具函数，用来完成Agent的任务。注意：大模型会根据函数的注释来判断使用哪个函数来完成任务。所以，注释一定要写清楚函数的功能和返回值。\n",
    "\n",
    "然后把工具函数放入FunctionTool对象中，供Agent能够使用。\n",
    "\n",
    "用 LlamaIndex 实现一个简单的 agent demo 比较容易，LlamaIndex 实现 Agent 需要导入 ReActAgent 和 Function Tool。\n",
    "\n",
    "ReActAgent 是什么？\n",
    "\n",
    "ReActAgent 通过结合推理（Reasoning）和行动（Acting）来创建动态的 LLM Agent 的框架。该方法允许 LLM 模型通过在复杂环境中交替进行推理步骤和行动步骤来更有效地执行任务。ReActAgent 将推理和动作形成了闭环，Agent 可以自己完成给定的任务。\n",
    "\n",
    "一个典型的 ReActAgent 遵循以下循环：\n",
    "\n",
    "初始推理：代理首先进行推理步骤，以理解任务、收集相关信息并决定下一步行为。 行动：代理基于其推理采取行动——例如查询API、检索数据或执行命令。 观察：代理观察行动的结果并收集任何新的信息。 优化推理：利用新信息，代理再次进行推理，更新其理解、计划或假设。 重复：代理重复该循环，在推理和行动之间交替，直到达到满意的结论或完成任务。\n",
    "\n",
    "实现最简单的代码，通过外部工具做算术题，只是一个简单的例子。这个如果不用 Agent，其实大模型也可以回答。看一下具体的代码实现：\n",
    "\n",
    "首先准备各种key和模型名称"
   ]
  },
  {
   "cell_type": "code",
   "execution_count": null,
   "id": "8edbfe8d",
   "metadata": {},
   "outputs": [],
   "source": [
    "# 配置chat模型\n"
   ]
  }
 ],
 "metadata": {
  "kernelspec": {
   "display_name": "llm_env",
   "language": "python",
   "name": "python3"
  },
  "language_info": {
   "name": "python",
   "version": "3.10.18"
  }
 },
 "nbformat": 4,
 "nbformat_minor": 5
}
