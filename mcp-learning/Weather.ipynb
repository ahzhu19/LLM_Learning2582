{
 "cells": [
  {
   "cell_type": "markdown",
   "id": "fd4763c5",
   "metadata": {},
   "source": []
  },
  {
   "cell_type": "code",
   "execution_count": 1,
   "id": "beff9975",
   "metadata": {},
   "outputs": [],
   "source": [
    "from openai import OpenAI\n",
    "from datetime import datetime\n",
    "import json\n",
    "import os\n",
    "import random\n",
    "from dotenv import load_dotenv\n",
    "import os\n",
    "\n",
    "client = OpenAI(\n",
    "    # 若没有配置环境变量，请用百炼API Key将下行替换为：api_key=\"sk-xxx\",\n",
    "    api_key=os.getenv(\"DASHSCOPE_API_KEY\"),\n",
    "    base_url=\"https://dashscope.aliyuncs.com/compatible-mode/v1\",  # 填写DashScope SDK的base_url\n",
    ")"
   ]
  },
  {
   "cell_type": "code",
   "execution_count": 5,
   "id": "ca02726b",
   "metadata": {},
   "outputs": [],
   "source": [
    "# 定义工具列表，模型在选择使用哪个工具时会参考工具的name和description\n",
    "tools = [\n",
    "\n",
    "    # 工具2 获取指定城市的天气\n",
    "    {\n",
    "        \"type\": \"function\",\n",
    "        \"function\": {\n",
    "            \"name\": \"get_current_weather\",\n",
    "            \"description\": \"当你想查询指定城市的天气时非常有用。\",\n",
    "            \"parameters\": {\n",
    "                \"type\": \"object\",\n",
    "                \"properties\": {\n",
    "                    # 查询天气时需要提供位置，因此参数设置为location\n",
    "                    \"location\": {\n",
    "                        \"type\": \"string\",\n",
    "                        \"description\": \"城市或县区，比如北京市、杭州市、余杭区等。\",\n",
    "                    }\n",
    "                },\n",
    "                \"required\": [\"location\"],\n",
    "            },\n",
    "        },\n",
    "    },\n",
    "]"
   ]
  },
  {
   "cell_type": "code",
   "execution_count": 14,
   "id": "4e02ec1a",
   "metadata": {},
   "outputs": [],
   "source": [
    "# 模拟天气查询工具。返回结果示例：“北京今天是雨天。”\n",
    "def get_current_weather(arguments):\n",
    "    # 定义备选的天气条件列表\n",
    "    weather_conditions = [\"晴天\", \"多云\", \"雨天\"]\n",
    "    # 随机选择一个天气条件\n",
    "    random_weather = random.choice(weather_conditions)\n",
    "    # 从 JSON 中提取位置信息\n",
    "    location = arguments[\"location\"]\n",
    "    # 返回格式化的天气信息\n",
    "    return f\"{location}今天是{random_weather}。\""
   ]
  },
  {
   "cell_type": "code",
   "execution_count": 2,
   "id": "4365763b",
   "metadata": {},
   "outputs": [
    {
     "name": "stdout",
     "output_type": "stream",
     "text": [
      "messages 数组创建完成\n",
      "\n"
     ]
    }
   ],
   "source": [
    "messages = [\n",
    "    {\n",
    "        \"role\": \"system\",\n",
    "        \"content\": \"\"\"你是一个很有帮助的助手。如果用户提问关于天气的问题，请调用 ‘get_current_weather’ 函数;\n",
    "     如果用户提问关于时间的问题，请调用‘get_current_time’函数。\n",
    "     请以友好的语气回答问题。\"\"\",\n",
    "    },\n",
    "    {\n",
    "        \"role\": \"user\",\n",
    "        \"content\": \"上海天气\"\n",
    "    }\n",
    "]\n",
    "print(\"messages 数组创建完成\\n\")"
   ]
  },
  {
   "cell_type": "code",
   "execution_count": 7,
   "id": "41ee3ab0",
   "metadata": {},
   "outputs": [
    {
     "name": "stdout",
     "output_type": "stream",
     "text": [
      "正在发起function calling...\n",
      "返回对象：\n",
      "{\"content\":\"\",\"refusal\":null,\"role\":\"assistant\",\"annotations\":null,\"audio\":null,\"function_call\":null,\"tool_calls\":[{\"id\":\"call_309e7d3ca66948309df031\",\"function\":{\"arguments\":\"{\\\"location\\\": \\\"上海\\\"}\",\"name\":\"get_current_weather\"},\"type\":\"function\",\"index\":0}]}\n",
      "\n",
      "\n",
      "ChatCompletion(id='chatcmpl-118b5890-b89a-95aa-97ca-8ae8f148c262', choices=[Choice(finish_reason='tool_calls', index=0, logprobs=None, message=ChatCompletionMessage(content='', refusal=None, role='assistant', annotations=None, audio=None, function_call=None, tool_calls=[ChatCompletionMessageToolCall(id='call_309e7d3ca66948309df031', function=Function(arguments='{\"location\": \"上海\"}', name='get_current_weather'), type='function', index=0)]))], created=1755003241, model='qwen-plus', object='chat.completion', service_tier=None, system_fingerprint=None, usage=CompletionUsage(completion_tokens=20, prompt_tokens=230, total_tokens=250, completion_tokens_details=None, prompt_tokens_details=PromptTokensDetails(audio_tokens=None, cached_tokens=0)))\n"
     ]
    }
   ],
   "source": [
    "def function_calling():\n",
    "    completion = client.chat.completions.create(\n",
    "        model=\"qwen-plus\",  # 此处以qwen-plus为例，可按需更换模型名称。模型列表：https://help.aliyun.com/zh/model-studio/getting-started/models\n",
    "        messages=messages,\n",
    "        tools=tools\n",
    "    )\n",
    "    print(\"返回对象：\")\n",
    "    print(completion.choices[0].message.model_dump_json())\n",
    "    print(\"\\n\")\n",
    "    return completion\n",
    "\n",
    "\n",
    "print(\"正在发起function calling...\")\n",
    "completion = function_calling()\n",
    "print(completion)"
   ]
  },
  {
   "cell_type": "code",
   "execution_count": null,
   "id": "7761ef20",
   "metadata": {},
   "outputs": [
    {
     "name": "stdout",
     "output_type": "stream",
     "text": [
      "工具函数输出：上海今天是晴天。\n",
      "\n"
     ]
    }
   ],
   "source": [
    "import json\n",
    "funtion_name = completion.choices[0].message.tool_calls[0].function.name\n",
    "arguments_string= json.loads(completion.choices[0].message.tool_calls[0].function.arguments)\n",
    "\n",
    "# LLM返回的参数是字符串，需要用 json.loads() 将其转换为Python字典\n",
    "\n",
    "\n",
    "# 创建函数映射表\n",
    "function_map = {\n",
    "    \"get_current_weather\": get_current_weather\n",
    "\n",
    "\n",
    "}\n",
    "\n",
    "# 获取函数实体\n",
    "\n",
    "funciton = function_map[funtion_name]\n",
    "if arguments_string == {}:\n",
    "    funciton_output = funciton()\n",
    "else:\n",
    "    function_output = function(arguments_string)\n",
    "    # 打印工具的输出\n",
    "print(f\"工具函数输出：{function_output}\\n\")\n"
   ]
  }
 ],
 "metadata": {
  "kernelspec": {
   "display_name": "langchain-env",
   "language": "python",
   "name": "python3"
  },
  "language_info": {
   "codemirror_mode": {
    "name": "ipython",
    "version": 3
   },
   "file_extension": ".py",
   "mimetype": "text/x-python",
   "name": "python",
   "nbconvert_exporter": "python",
   "pygments_lexer": "ipython3",
   "version": "3.10.18"
  }
 },
 "nbformat": 4,
 "nbformat_minor": 5
}
