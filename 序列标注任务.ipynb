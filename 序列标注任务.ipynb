{
 "cells": [
  {
   "metadata": {},
   "cell_type": "code",
   "source": [
    "class Config:\n",
    "    train_data_path = './china-people-daily-ner-corpus/china-people-daily-ner-corpus/example.train'\n",
    "    valid_data_path = './china-people-daily-ner-corpus/china-people-daily-ner-corpus/example.dev'\n",
    "    test_data_path = './china-people-daily-ner-corpus/china-people-daily-ner-corpus/example.test'"
   ],
   "id": "559d3329d9a015e1",
   "outputs": [],
   "execution_count": null
  },
  {
   "metadata": {},
   "cell_type": "code",
   "source": [
    "# segment样例['我 B-PER\\n是 I-PER\\n中 B-LOC\\n国 I-LOC', '你 B-PER\\n好 O']\n",
    "categories = set()\n",
    "def load_data(path):\n",
    "    with open(path, 'r', encoding='utf-8') as f:\n",
    "        Data = {}\n",
    "        for index, segment in enumerate(f.read().split('\\n\\n')): #\n",
    "            if not segment:\n",
    "                break\n",
    "            sentence, label = '',[]\n",
    "            for i , item in enumerate(segment.split('\\n')):\n",
    "                char , tag = item.split(' ')\n",
    "                sentence += char\n",
    "                # 处理标签label = [[start, end, text, category], ...]\n",
    "                if tag[0] ==  'B':\n",
    "                    label.append([i,i,char, tag[2:]])\n",
    "                    category = tag[2:]\n",
    "                if tag[0] == 'I':\n",
    "                    label[-1][1] = i\n",
    "                    label[-1][2] += char\n",
    "            Data[index] = {\n",
    "                'sentence': sentence,\n",
    "                'label': label\n",
    "            }\n",
    "    return Data\n",
    "\n",
    "\n",
    "\n"
   ],
   "id": "caa7b995d3d6a235",
   "outputs": [],
   "execution_count": null
  },
  {
   "metadata": {},
   "cell_type": "code",
   "source": "",
   "id": "42d20c6f88483cd2",
   "outputs": [],
   "execution_count": null
  },
  {
   "metadata": {},
   "cell_type": "code",
   "source": "",
   "id": "b676dbe71afeabb",
   "outputs": [],
   "execution_count": null
  },
  {
   "metadata": {},
   "cell_type": "code",
   "source": "",
   "id": "31575e5fab84f92c",
   "outputs": [],
   "execution_count": null
  },
  {
   "metadata": {},
   "cell_type": "code",
   "source": "",
   "id": "db14a80787bafe5c",
   "outputs": [],
   "execution_count": null
  }
 ],
 "metadata": {
  "kernelspec": {
   "display_name": "Python 3",
   "language": "python",
   "name": "python3"
  },
  "language_info": {
   "codemirror_mode": {
    "name": "ipython",
    "version": 2
   },
   "file_extension": ".py",
   "mimetype": "text/x-python",
   "name": "python",
   "nbconvert_exporter": "python",
   "pygments_lexer": "ipython2",
   "version": "2.7.6"
  }
 },
 "nbformat": 4,
 "nbformat_minor": 5
}
