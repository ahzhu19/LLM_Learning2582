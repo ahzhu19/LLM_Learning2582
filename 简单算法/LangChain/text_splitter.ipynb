{
 "cells": [
  {
   "cell_type": "markdown",
   "id": "8e81bf6c",
   "metadata": {},
   "source": []
  },
  {
   "cell_type": "markdown",
   "id": "d679643a",
   "metadata": {},
   "source": [
    "# CharacterTextSplitter"
   ]
  },
  {
   "cell_type": "markdown",
   "id": "3fadae63",
   "metadata": {},
   "source": [
    "原始数据 -> Loader -> Document (一个大的文本块) -> TextSplitter -> Chunks (多个小的文本块) -> LLM Tokenizer -> Tokens (词)"
   ]
  },
  {
   "cell_type": "code",
   "execution_count": 8,
   "id": "bd9f9119",
   "metadata": {},
   "outputs": [
    {
     "data": {
      "text/plain": [
       "[Document(metadata={}, page_content='This is the text I would like to ch'),\n",
       " Document(metadata={}, page_content='o chunk up. It is the example text'),\n",
       " Document(metadata={}, page_content='ext for this exercise')]"
      ]
     },
     "execution_count": 8,
     "metadata": {},
     "output_type": "execute_result"
    }
   ],
   "source": [
    "\n",
    "from langchain_text_splitters import CharacterTextSplitter\n",
    "\n",
    "text_splitter = CharacterTextSplitter(chunk_size=35,\n",
    " chunk_overlap=4,\n",
    " separator=\"\" \n",
    " )\n",
    "\n",
    "text = \"This is the text I would like to chunk up. It is the example text for this exercise\"\n",
    "text_splitter.create_documents([text])"
   ]
  },
  {
   "cell_type": "code",
   "execution_count": 9,
   "id": "02d35745",
   "metadata": {},
   "outputs": [
    {
     "data": {
      "text/plain": [
       "[Document(metadata={}, page_content='This is\\n the text I would'),\n",
       " Document(metadata={}, page_content='like to chunk up.It is the example text for this exercise')]"
      ]
     },
     "execution_count": 9,
     "metadata": {},
     "output_type": "execute_result"
    }
   ],
   "source": [
    "text_splitter = CharacterTextSplitter(\n",
    "    separator=\"\\n\",\n",
    "    chunk_size=35,\n",
    "    chunk_overlap=4,\n",
    ")\n",
    "\n",
    "text = \"This is\\n the text I would\\n like to chunk up.It is the example text for this exercise\"\n",
    "text_splitter.create_documents([text])"
   ]
  },
  {
   "cell_type": "markdown",
   "id": "d52c2581",
   "metadata": {},
   "source": [
    "# Recursively split by character"
   ]
  },
  {
   "cell_type": "code",
   "execution_count": 10,
   "id": "e9bc6ef2",
   "metadata": {},
   "outputs": [
    {
     "data": {
      "text/plain": [
       "[Document(metadata={}, page_content='This is\\n\\n the'),\n",
       " Document(metadata={}, page_content='text\\n I would like'),\n",
       " Document(metadata={}, page_content='to chunk up. It is the example'),\n",
       " Document(metadata={}, page_content='text'),\n",
       " Document(metadata={}, page_content='for'),\n",
       " Document(metadata={}, page_content='this exercise')]"
      ]
     },
     "execution_count": 10,
     "metadata": {},
     "output_type": "execute_result"
    }
   ],
   "source": [
    "from langchain_text_splitters import RecursiveCharacterTextSplitter\n",
    "\n",
    "text_splitter = RecursiveCharacterTextSplitter(\n",
    "    separators=[\"\\n\\n\", \"\\n\", \" \", \"\"],\n",
    "    chunk_size=35,\n",
    "    chunk_overlap=4,\n",
    ")\n",
    "\n",
    "text = \"This is\\n\\n the\\n\\n text\\n I would like\\n to chunk up. It is the example text\\n for\\n\\n this exercise\"\n",
    "text_splitter.create_documents([text])"
   ]
  },
  {
   "cell_type": "markdown",
   "id": "bd8a24c4",
   "metadata": {},
   "source": [
    "# Markdowm分割\n",
    "每一次分割会显示当前目录的层级，但是一般只显示当前目录等级里面的内容\n"
   ]
  },
  {
   "cell_type": "code",
   "execution_count": 11,
   "id": "e5f78c23",
   "metadata": {},
   "outputs": [
    {
     "data": {
      "text/plain": [
       "[Document(metadata={'Header 1': 'Intro', 'Header 2': 'History'}, page_content='Markdown[9] is a lightweight markup language for creating formatted text using a plain-text editor. John Gruber created Markdown in 2004 as a markup language that is appealing to human readers in its source code form.[9]  \\nMarkdown is widely used in blogging, instant messaging, online forums, collaborative software, documentation pages, and readme files.'),\n",
       " Document(metadata={'Header 1': 'Intro', 'Header 2': 'Rise and divergence'}, page_content='As Markdown popularity grew rapidly, many Markdown implementations appeared, driven mostly by the need for  \\nadditional features such as tables, footnotes, definition lists,[note 1] and Markdown inside HTML blocks.  \\n#### Standardization  \\nFrom 2012, a group of people, including Jeff Atwood and John MacFarlane, launched what Atwood characterised as a standardisation effort.'),\n",
       " Document(metadata={'Header 1': 'Intro', 'Header 2': 'Implementations'}, page_content='Implementations of Markdown are available for over a dozen programming languages.')]"
      ]
     },
     "execution_count": 11,
     "metadata": {},
     "output_type": "execute_result"
    }
   ],
   "source": [
    "from langchain_text_splitters import MarkdownHeaderTextSplitter\n",
    "\n",
    "markdown_document = \"# Intro \\n\\n    ## History \\n\\n Markdown[9] is a lightweight markup language for creating formatted text using a plain-text editor. John Gruber created Markdown in 2004 as a markup language that is appealing to human readers in its source code form.[9] \\n\\n Markdown is widely used in blogging, instant messaging, online forums, collaborative software, documentation pages, and readme files. \\n\\n ## Rise and divergence \\n\\n As Markdown popularity grew rapidly, many Markdown implementations appeared, driven mostly by the need for \\n\\n additional features such as tables, footnotes, definition lists,[note 1] and Markdown inside HTML blocks. \\n\\n #### Standardization \\n\\n From 2012, a group of people, including Jeff Atwood and John MacFarlane, launched what Atwood characterised as a standardisation effort. \\n\\n ## Implementations \\n\\n Implementations of Markdown are available for over a dozen programming languages.\"\n",
    "\n",
    "headers_to_split_on = [\n",
    "    (\"#\", \"Header 1\"),\n",
    "    (\"##\", \"Header 2\"),\n",
    "    (\"###\", \"Header 3\"),\n",
    "]\n",
    "\n",
    "markdown_splitter = MarkdownHeaderTextSplitter(headers_to_split_on=headers_to_split_on)\n",
    "md_header_splits = markdown_splitter.split_text(markdown_document)\n",
    "md_header_splits"
   ]
  },
  {
   "cell_type": "code",
   "execution_count": 12,
   "id": "5b51c079",
   "metadata": {},
   "outputs": [
    {
     "name": "stdout",
     "output_type": "stream",
     "text": [
      "Note: you may need to restart the kernel to use updated packages.\n"
     ]
    }
   ],
   "source": [
    "%pip install --quiet langchain_experimental"
   ]
  },
  {
   "cell_type": "markdown",
   "id": "4f8200f6",
   "metadata": {},
   "source": [
    "# Semantic Chunking\n",
    "语义风格，先转换为向量然后如果差异大就做分割"
   ]
  },
  {
   "cell_type": "code",
   "execution_count": null,
   "id": "c9cdf5fb",
   "metadata": {},
   "outputs": [],
   "source": []
  },
  {
   "cell_type": "code",
   "execution_count": null,
   "id": "651b7028",
   "metadata": {},
   "outputs": [],
   "source": []
  }
 ],
 "metadata": {
  "kernelspec": {
   "display_name": "langchain-env",
   "language": "python",
   "name": "python3"
  },
  "language_info": {
   "codemirror_mode": {
    "name": "ipython",
    "version": 3
   },
   "file_extension": ".py",
   "mimetype": "text/x-python",
   "name": "python",
   "nbconvert_exporter": "python",
   "pygments_lexer": "ipython3",
   "version": "3.10.18"
  }
 },
 "nbformat": 4,
 "nbformat_minor": 5
}
