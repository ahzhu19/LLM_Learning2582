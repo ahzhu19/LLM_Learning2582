{
 "cells": [
  {
   "cell_type": "code",
   "execution_count": 1,
   "id": "f07714f2",
   "metadata": {},
   "outputs": [
    {
     "name": "stdout",
     "output_type": "stream",
     "text": [
      "sk-6a28680f8c7e4174b41ce71e235de4c8\n"
     ]
    }
   ],
   "source": [
    "import os\n",
    "from langchain_community.llms import Tongyi\n",
    "print(os.environ['DASHSCOPE_API_KEY'])"
   ]
  },
  {
   "cell_type": "code",
   "execution_count": 5,
   "id": "153f842b",
   "metadata": {},
   "outputs": [],
   "source": [
    "# 创建模型\n",
    "llm = Tongyi()"
   ]
  },
  {
   "cell_type": "code",
   "execution_count": null,
   "id": "68b7c283",
   "metadata": {},
   "outputs": [
    {
     "data": {
      "text/plain": [
       "'关于**失业与通货膨胀的相关性**，经济学中有几个重要的理论模型和观点，其中最著名的是：\\n\\n---\\n\\n## 📌 1. **菲利普斯曲线（Phillips Curve）**\\n\\n### 背景：\\n由新西兰经济学家 **A.W. 菲利普斯（A.W. Phillips）** 在1958年提出，他观察了英国1861年至1957年的数据，发现**失业率与工资增长率之间存在负相关关系**。\\n\\n### 核心观点：\\n- **失业率越低，工资上涨越快**，进而推动整体物价上涨（即通货膨胀）。\\n- 因此，失业率与通货膨胀率之间存在**短期的负相关关系**。\\n\\n### 简化的菲利普斯曲线公式：\\n$$\\n\\\\pi = \\\\pi^e - \\\\beta(u - u^*)\\n$$\\n其中：\\n- $\\\\pi$：实际通货膨胀率\\n- $\\\\pi^e$：预期通货膨胀率\\n- $u$：实际失业率\\n- $u^*$：自然失业率\\n- $\\\\beta$：参数，表示失业对通胀的影响程度\\n\\n### 含义：\\n- 在短期内，政府可以通过扩张性政策（如增加支出、降低利率）降低失业率，但会带来更高的通货膨胀。\\n- 这种关系支持了“政策权衡（trade-off）”的观点。\\n\\n---\\n\\n## 📌 2. **适应性预期与长期菲利普斯曲线**\\n\\n### 由米尔顿·弗里德曼（Milton Friedman）和埃德蒙·费尔普斯（Edmund Phelps）提出\\n\\n### 核心观点：\\n- **长期中，失业率会回到自然失业率（natural rate of unemployment）**，无论通货膨胀如何变化。\\n- 工人和企业会根据过去的经验调整对未来通胀的预期（**适应性预期**）。\\n- 一旦预期通胀上升，工人要求更高的工资，企业提高价格，最终失业率回到自然水平，而通胀更高。\\n\\n### 结论：\\n- **长期中不存在失业与通货膨胀之间的权衡关系**。\\n- 长期菲利普斯曲线是**垂直的**。\\n\\n---\\n\\n## 📌 3. **理性预期与卢卡斯批判（Lucas Critique）**\\n\\n### 代表人物：罗伯特·卢卡斯（Robert Lucas）\\n\\n### 核心观点：\\n- 人们不是根据过去经验调整预期，而是使用**所有可用信息进行理性预测**（理性预期）。\\n- 如果人们能准确预测政策变化带来的通胀，政策对失业率的影响将失效。\\n\\n### 政策含义：\\n- **系统性的宏观经济政策（如刺激经济）无法在长期中降低失业率**，只会导致通胀。\\n\\n---\\n\\n## 📌 4. **新凯恩斯主义的菲利普斯曲线（New Keynesian Phillips Curve, NKPC）**\\n\\n### 核心观点：\\n- 通胀不仅取决于当前的失业率或经济活动水平，还受到**预期通胀**的影响。\\n- 由于价格和工资调整存在“粘性”（sticky prices/wages），**短期中通胀与失业仍存在负相关关系**。\\n\\n### 公式形式（简化）：\\n$$\\n\\\\pi_t = \\\\beta E_t[\\\\pi_{t+1}] + \\\\kappa x_t\\n$$\\n其中：\\n- $\\\\pi_t$：当前通胀\\n- $E_t[\\\\pi_{t+1}]$：下一期预期通胀\\n- $x_t$：产出缺口（衡量失业的指标）\\n- $\\\\kappa$、$\\\\beta$：参数\\n\\n### 含义：\\n- 即使在理性预期下，由于价格粘性，通胀仍与失业有关。\\n- 支持央行通过货币政策进行通胀控制。\\n\\n---\\n\\n## 📌 5. **滞胀（Stagflation）现象的挑战**\\n\\n### 20世纪70年代出现的经济现象：\\n- **高失业 + 高通胀**同时出现（如石油危机）\\n- 这打破了传统菲利普斯曲线的负相关关系，促使经济学家重新思考模型\\n\\n### 启示：\\n- 外部冲击（如能源价格上升）可以同时推高失业和通胀。\\n- 说明**仅靠菲利普斯曲线无法解释所有情况**，需要考虑供给面因素。\\n\\n---\\n\\n## ✅ 总结：失业与通胀关系的演变\\n\\n| 理论 | 时间 | 核心观点 | 曲线形状 |\\n|------|------|----------|-----------|\\n| 原始菲利普斯曲线 | 1958年 | 短期负相关 | 向下倾斜 |\\n| 适应性预期模型 | 1960s | 长期无权衡 | 垂直（长期） |\\n| 理性预期模型 | 1970s | 政策无效 | 垂直 |\\n| 新凯恩斯模型 | 1990s以来 | 粘性价格下短期负相关 | 向上倾斜（但受预期影响） |\\n\\n---\\n\\n如果你需要，我可以帮你用这些理论分析当前中国的失业与通胀情况，或者做一个图表来直观展示这些理论之间的区别。需要的话请告诉我 😊'"
      ]
     },
     "execution_count": 6,
     "metadata": {},
     "output_type": "execute_result"
    }
   ],
   "source": [
    "# 阻塞模式\n",
    "llm.invoke(\"有什么关于失业和通货膨胀的相关性的理论\")"
   ]
  },
  {
   "cell_type": "code",
   "execution_count": null,
   "id": "5ad5ea6b",
   "metadata": {},
   "outputs": [
    {
     "name": "stdout",
     "output_type": "stream",
     "text": [
      "关于\n",
      "失业和通\n",
      "货膨胀之间的\n",
      "相关性，\n",
      "经济学中最有影响力的\n",
      "理论之一是**菲\n",
      "利普斯曲线（Phill\n",
      "ips Curve）**。这个\n",
      "理论最初由新西兰\n",
      "经济学家**阿尔班\n",
      "·威廉·菲\n",
      "利普斯（\n",
      "A. W. Phillips）\n",
      "**于195\n",
      "8年提出，基于\n",
      "对英国18\n",
      "61-19\n",
      "57年间失业\n",
      "率与工资变化率\n",
      "之间的关系的研究。\n",
      "\n",
      "---\n",
      "\n",
      "\n",
      "## 一、菲利\n",
      "普斯曲线（Phillips\n",
      " Curve）\n",
      "\n",
      "### 1.\n",
      " 原始菲\n",
      "利普斯曲线（1\n",
      "958年）\n",
      "\n",
      "\n",
      "菲利普斯\n",
      "发现，**失业\n",
      "率与工资增长率\n",
      "之间存在负相关关系**\n",
      "：当失业率较低\n",
      "时，工资上涨\n",
      "较快；而当失业率\n",
      "较高时，工资增长较\n",
      "慢甚至下降。\n",
      "\n",
      "这\n",
      "被后来的经济学家推广\n",
      "为：**失业\n",
      "率与通货膨胀\n",
      "率之间存在负相关关系\n",
      "**。\n",
      "\n",
      "---\n",
      "\n",
      "###\n",
      " 2.\n",
      " 短期菲\n",
      "利普斯曲线（Short\n",
      "-Run Phillips Curve）\n",
      "\n",
      "在\n",
      "20世纪60年代\n",
      "，经济学家如**保罗\n",
      "·萨缪尔森\n",
      "（Paul Samuelson）**\n",
      "和**罗伯特·\n",
      "索洛（Robert Sol\n",
      "ow）**将\n",
      "菲利普斯\n",
      "曲线引入宏观经济分析\n",
      "，认为：\n",
      "\n",
      "- **短期\n",
      "中，失业率与通\n",
      "货膨胀率之间存在\n",
      "此消彼长\n",
      "的关系**。\n",
      "-\n",
      " 政府可以通过\n",
      "货币政策或财政政策\n",
      "在两者之间“\n",
      "权衡取舍”\n",
      "（trade-off）。\n",
      "\n",
      "\n",
      "例如：\n",
      "-\n",
      " 扩张性政策 →\n",
      " 刺激需求\n",
      " → 降低失业率，\n",
      "但导致通货膨胀\n",
      "上升；\n",
      "-\n",
      " 紧缩性\n",
      "政策 → 抑制通胀\n",
      "，但可能导致失业\n",
      "率上升。\n",
      "\n",
      "---\n",
      "\n",
      "##\n",
      " 二、长期\n",
      "菲利普斯曲线（\n",
      "Long-Run Phillips Curve\n",
      "）\n",
      "\n",
      "到了20世纪\n",
      "70年代，美国\n",
      "经济学家**米尔顿\n",
      "·弗里德曼（\n",
      "Milton Friedman）**\n",
      "和**埃德\n",
      "蒙·菲尔普斯（\n",
      "Edmund Phelps）**提出\n",
      "：\n",
      "\n",
      "### 1.\n",
      " 自然失业率假说\n",
      "（Natural Rate of Unemployment\n",
      "）\n",
      "\n",
      "- 经济中\n",
      "存在一个“自然失业率\n",
      "”（Natural Rate of Un\n",
      "employment, NRU\n",
      "），也称为非\n",
      "加速通货膨胀失业\n",
      "率（NAIRU）\n",
      "。\n",
      "- 在长期\n",
      "中，经济会\n",
      "回到这个自然失业率\n",
      "水平。\n",
      "- **长期\n",
      "中，通货\n",
      "膨胀与失业之间\n",
      "没有稳定的负相关关系\n",
      "**。\n",
      "\n",
      "### 2.\n",
      " 预期的作用\n",
      "\n",
      "\n",
      "- 如果人们\n",
      "预期未来通货膨胀\n",
      "上升，即使失业\n",
      "率较高，工资和\n",
      "物价也可能上涨。\n",
      "\n",
      "- 这导致\n",
      "**短期菲利普\n",
      "斯曲线向上移动**，\n",
      "从而打破传统的负\n",
      "相关关系。\n",
      "\n",
      "---\n",
      "\n",
      "## \n",
      "三、附加预期\n",
      "的菲利普斯\n",
      "曲线（Expectations\n",
      "-Augmented Phillips Curve）\n",
      "\n",
      "这是\n",
      "对原始菲利普\n",
      "斯曲线的重要修正\n",
      "，公式如下：\n",
      "\n",
      "$$\n",
      "\n",
      "\\pi = \\pi^\n",
      "e - \\beta\n",
      "(u - u_n)\n",
      "$$\n",
      "\n",
      "\n",
      "其中：\n",
      "- $\\\n",
      "pi$：实际\n",
      "通货膨胀率\n",
      "-\n",
      " $\\pi^e$：\n",
      "预期通货膨胀率\n",
      "\n",
      "- $u$：\n",
      "实际失业率\n",
      "-\n",
      " $u_n$：自然\n",
      "失业率\n",
      "- $\\beta\n",
      "$：反映失业\n",
      "率对通胀影响\n",
      "的参数\n",
      "\n",
      "含义\n",
      "：\n",
      "- 如果预期\n",
      "通胀上升（$\\pi\n",
      "^e$上升\n",
      "），即使失业率不变，\n",
      "实际通胀也会提高\n",
      "。\n",
      "- 这解释\n",
      "了20世纪7\n",
      "0年代出现的“滞\n",
      "胀”（St\n",
      "agflation）现象（\n",
      "即高通胀与\n",
      "高失业并存）。\n",
      "\n",
      "\n",
      "---\n",
      "\n",
      "## 四、现代\n",
      "菲利普斯\n",
      "曲线（New Keynes\n",
      "ian Phillips Curve）\n",
      "\n",
      "\n",
      "在现代宏观经济学中\n",
      "，**新凯恩\n",
      "斯主义菲利普斯\n",
      "曲线（NKPC\n",
      "）**成为主流模型之一\n",
      "，强调：\n",
      "\n",
      "- **\n",
      "价格粘性**\n",
      "（Price Stickiness\n",
      "）：企业不会\n",
      "立即调整价格。\n",
      "\n",
      "- **理性预期**（\n",
      "Rational Expectations\n",
      "）：人们对未来\n",
      "通胀有理性判断\n",
      "。\n",
      "\n",
      "NKPC的\n",
      "典型形式为：\n",
      "\n",
      "\n",
      "$$\n",
      "\\pi_t\n",
      " = \\beta E\n",
      "_t[\\pi_{\n",
      "t+1}] + \\\n",
      "kappa x_t\n",
      "$$\n",
      "\n",
      "\n",
      "其中：\n",
      "- $\\\n",
      "pi_t$：当前\n",
      "通胀\n",
      "- $E\n",
      "_t[\\pi_{t\n",
      "+1}]$：对未来\n",
      "通胀的预期\n",
      "- $\n",
      "x_t$：产出\n",
      "缺口或失业缺口\n",
      "\n",
      "- $\\k\n",
      "appa$：反映经济\n",
      "中价格粘性程度\n",
      "的参数\n",
      "\n",
      "---\n",
      "\n",
      "\n",
      "## 五、实际\n",
      "政策含义\n",
      "\n",
      "|\n",
      " 理论 |\n",
      " 政策含义\n",
      " |\n",
      "|------|-----------\n",
      "|\n",
      "| 原始\n",
      "菲利普斯曲线 |\n",
      " 政府可通过\n",
      "刺激经济降低失业，\n",
      "但会带来通胀 |\n",
      "|\n",
      " 自然失业率\n",
      "假说 |\n",
      " 长期来看\n",
      "，刺激政策只会\n",
      "导致通胀，不会降低\n",
      "失业 |\n",
      "|\n",
      " 现代菲\n",
      "利普斯曲线 |\n",
      " 政策应关注通胀预期\n",
      "，保持通胀稳定\n",
      "有助于经济稳定 |\n",
      "\n",
      "---\n",
      "\n",
      "\n",
      "## 六、现实\n",
      "中的挑战\n",
      "\n",
      "1\n",
      ". **滞胀（St\n",
      "agflation）**：高\n",
      "失业与高通胀\n",
      "并存，挑战传统理论\n",
      "。\n",
      "2. **全球化\n",
      "与供应链变化**：影响\n",
      "通胀与失业的\n",
      "联动关系。\n",
      "3.\n",
      " **劳动力市场结构\n",
      "变化**：如零\n",
      "工经济、自动化\n",
      "等影响自然失业率。\n",
      "\n",
      "4. **中央\n",
      "银行信誉**：通胀\n",
      "预期管理成为关键\n",
      "。\n",
      "\n",
      "---\n",
      "\n",
      "## 总结\n",
      "\n",
      "\n",
      "| 理论\n",
      " | 核心观点\n",
      " | 时间 |\n",
      "|------|\n",
      "----------|------|\n",
      "|\n",
      " 菲利普斯曲线\n",
      " | 失业与\n",
      "通胀负相关 |\n",
      " 1958年\n",
      " |\n",
      "| 短期\n",
      "菲利普斯曲线 |\n",
      " 存在短期\n",
      "权衡 | 1\n",
      "960年代 |\n",
      "|\n",
      " 长期菲利\n",
      "普斯曲线 |\n",
      " 长期无权\n",
      "衡，存在自然失业率\n",
      " | 1970\n",
      "年代 |\n",
      "| \n",
      "附加预期菲利普斯\n",
      "曲线 | 引入通胀\n",
      "预期 | 197\n",
      "0年代 |\n",
      "| 新凯\n",
      "恩斯主义菲利普\n",
      "斯曲线 |\n",
      " 强调价格粘\n",
      "性与理性预期\n",
      " | 1990\n",
      "年代至今 |\n",
      "\n",
      "---\n",
      "\n",
      "如果你\n",
      "对某一部分（\n",
      "如滞胀、货币政策\n",
      "、通胀预期）\n",
      "感兴趣，我可以进一步展开讲解\n",
      "。\n",
      "\n"
     ]
    }
   ],
   "source": [
    "# 流式输出 ： llm.stream() 的意思是：不要等模型生成完所有内容再给我，\n",
    "# 而是像在线看视频一样，它生成一点，你就立刻发给我一点。\n",
    "for chunk in llm.stream(\"有什么关于失业和通货膨胀的相关性的理论\"):\n",
    "    print(chunk, end=\"\\n\", flush=True)"
   ]
  },
  {
   "cell_type": "markdown",
   "id": "495d5c58",
   "metadata": {},
   "source": [
    "batch 多个任务并行发送给大模型处理"
   ]
  },
  {
   "cell_type": "code",
   "execution_count": null,
   "id": "6d4a8391",
   "metadata": {},
   "outputs": [
    {
     "data": {
      "text/plain": [
       "['李白（701年－762年），字太白，号青莲居士，唐代伟大的浪漫主义诗人，被誉为“诗仙”。他出生于西域碎叶城（今吉尔吉斯斯坦境内），后随家迁居四川江油。李白性格豪放不羁，热爱自由，喜好游历名山大川，诗风奔放飘逸，充满想象力与浪漫色彩。\\n\\n他的诗歌题材广泛，包括山水、饮酒、友情、历史等，代表作有《将进酒》《静夜思》《望庐山瀑布》《早发白帝城》等。李白一生仕途坎坷，曾短暂供奉翰林，但因性格不合官场而被排挤，最终寄情诗酒，漂泊终老。\\n\\n李白与杜甫并称“李杜”，是中国古代诗歌史上最耀眼的双星之一，对后世影响深远。',\n",
       " '好的，以下是一个宋代著名诗人的简要介绍：\\n\\n**陆游（1125年－1210年）**\\n\\n陆游，字务观，号放翁，南宋著名文学家、爱国诗人。他是宋代诗歌产量最多的诗人之一，一生创作了近万首诗，内容广泛，情感真挚，风格豪放而沉郁。\\n\\n陆游出生在一个士大夫家庭，早年立志报国，多次主张抗金，但屡遭贬斥。他仕途坎坷，但始终关心国家命运，忧国忧民，诗歌中常表现出强烈的爱国情怀。\\n\\n代表作有《示儿》：“**王师北定中原日，家祭无忘告乃翁。**”表达了他至死不忘国家统一的坚定信念。\\n\\n他的诗歌语言通俗易懂，感情真挚，兼具豪放与细腻，对后世影响深远。']"
      ]
     },
     "execution_count": 8,
     "metadata": {},
     "output_type": "execute_result"
    }
   ],
   "source": [
    "\n",
    "llm.batch(\n",
    "    [\n",
    "        \"简单介绍一个唐代诗人\",\n",
    "        \"简单介绍一个宋代诗人\"\n",
    "    ]\n",
    ")"
   ]
  },
  {
   "cell_type": "markdown",
   "id": "6f73eb0f",
   "metadata": {},
   "source": [
    "# 自定义LLM"
   ]
  },
  {
   "cell_type": "code",
   "execution_count": 9,
   "id": "422ea290",
   "metadata": {},
   "outputs": [],
   "source": [
    "from typing import Any, Dict, Iterator, List, Mapping, Optional\n",
    "\n",
    "from langchain_core.callbacks.manager import CallbackManagerForLLMRun\n",
    "from langchain_core.language_models.llms import LLM\n",
    "from langchain_core.outputs import GenerationChunk\n",
    "class CustomLLM(LLM):\n",
    "    \"\"\"A custom chat model that echoes the first `n` characters of the input.\n",
    "\n",
    "    When contributing an implementation to LangChain, carefully document\n",
    "    the model including the initialization parameters, include\n",
    "    an example of how to initialize the model and include any relevant\n",
    "    links to the underlying models documentation or API.\n",
    "\n",
    "    Example:\n",
    "\n",
    "        .. code-block:: python\n",
    "\n",
    "            model = CustomChatModel(n=2)\n",
    "            result = model.invoke([HumanMessage(content=\"hello\")])\n",
    "            result = model.batch([[HumanMessage(content=\"hello\")],\n",
    "                                 [HumanMessage(content=\"world\")]])\n",
    "    \"\"\"\n",
    "\n",
    "    n: int\n",
    "    \"\"\"The number of characters from the last message of the prompt to be echoed.\"\"\"\n",
    "    def _call(\n",
    "            self, \n",
    "            prompt: str,\n",
    "            stop: Optional[List[str]] = None,\n",
    "            run_manager: Optional[CallbackManagerForLLMRun] = None,\n",
    "            **kwargs: Any,\n",
    "    ) -> str:\n",
    "        if stop is not None:\n",
    "            raise ValueError(\"stop kwargs are not permitted.\")\n",
    "        return prompt[:5]\n",
    "    \n",
    "    def _stream(\n",
    "        self,  # self 是类的实例，比如你的 llm 对象\n",
    "        prompt: str,  # 输入的问题（字符串）\n",
    "        stop: Optional[List[str]] = None,  # 可选的停止词列表\n",
    "        run_manager: Optional[CallbackManagerForLLMRun] = None,  # 可选的回调管理器\n",
    "        **kwargs: Any,  # 其他任意参数\n",
    "    ) -> Iterator[GenerationChunk]:  # 返回一个迭代器，里面是 GenerationChunk 对象\n",
    "        \"\"\"Stream the LLM on the given prompt.  # 方法的文档字符串：流式处理给定的 prompt\n",
    "\n",
    "        This method should be overridden by subclasses that support streaming.  # 子类应该重写这个方法来支持流式\n",
    "\n",
    "        If not implemented, the default behavior of calls to stream will be to  # 如果没实现，默认行为是\n",
    "        fallback to the non-streaming version of the model and return  # 回退到非流式版本，并返回\n",
    "        the output as a single chunk.  # 输出作为一个单个 chunk\n",
    "\n",
    "        Args:  # 参数解释\n",
    "            prompt: The prompt to generate from.  # 要生成的内容的 prompt\n",
    "            stop: Stop words to use when generating. Model output is cut off at the  # 停止词：生成时遇到这些词就停\n",
    "                first occurrence of any of these substrings.\n",
    "            run_manager: Callback manager for the run.  # 运行时的回调管理器（用于日志、监控）\n",
    "            **kwargs: Arbitrary additional keyword arguments. These are usually passed  # 其他参数，通常传给模型 API\n",
    "                to the model provider API call.\n",
    "\n",
    "        Returns:  # 返回值\n",
    "            An iterator of GenerationChunks.  # GenerationChunk 的迭代器\n",
    "        \"\"\"\n",
    "        # 下面是默认实现的核心代码\n",
    "        for char in prompt[: self.n]:  # 遍历 prompt 的前 n 个字符（self.n 是模型的某个属性，比如 chunk 大小）\n",
    "            chunk = GenerationChunk(text=char)  # 创建一个 chunk 对象，只包含一个字符\n",
    "            if run_manager:  # 如果有回调管理器\n",
    "                run_manager.on_llm_new_token(chunk.text, chunk=chunk)  # 调用回调，通知“新 token 生成”\n",
    "\n",
    "            yield chunk  # yield 这个 chunk（边生成边返回）\n",
    "\n",
    "    @property #这是一个 Python 装饰器（decorator），把方法变成“属性”（property）。\n",
    "    def _identifying_params(self) -> Dict[str, Any]:\n",
    "        \"\"\"\n",
    "        这是一个属性方法（用 @property 装饰的），它返回一个字典（Dict），\n",
    "        里面包含模型的“身份信息”（identifying parameters）。简单说，它就像模型的“身份证”\n",
    "        ，告诉 LangChain 或外部工具（如 LangSmith）这个模型的基本特征。\n",
    "\n",
    "\n",
    "        \"\"\"\n",
    "        return {\n",
    "            \"model_name\": \"CustomLLM\",\n",
    "        }\n",
    "    \n",
    "    @property\n",
    "    def _llm_type(self) -> str:\n",
    "        \"\"\"Get the type of language model used by this chat model. Used for logging purposes only.\"\"\"\n",
    "        return \"custom\"\n"
   ]
  },
  {
   "cell_type": "code",
   "execution_count": null,
   "id": "cb7a5770",
   "metadata": {},
   "outputs": [
    {
     "data": {
      "text/plain": [
       "'你好大大大'"
      ]
     },
     "execution_count": 10,
     "metadata": {},
     "output_type": "execute_result"
    }
   ],
   "source": [
    "cust_llm = CustomLLM(n=5)\n",
    "cust_llm.invoke(\"你好大大大大大苏打实打实大苏打\")\n",
    "\n",
    "\n"
   ]
  },
  {
   "cell_type": "code",
   "execution_count": 11,
   "id": "0f0d4393",
   "metadata": {},
   "outputs": [
    {
     "name": "stdout",
     "output_type": "stream",
     "text": [
      "你|好|军|第|哦|"
     ]
    }
   ],
   "source": [
    "for token in cust_llm.stream(\"你好军第哦啊涉及到大家阿松大傻傻的\"):\n",
    "    print (token, end=\"|\", flush=True)"
   ]
  },
  {
   "cell_type": "code",
   "execution_count": 14,
   "id": "12bddbe5",
   "metadata": {},
   "outputs": [
    {
     "data": {
      "text/plain": [
       "['woof ', 'meow ']"
      ]
     },
     "execution_count": 14,
     "metadata": {},
     "output_type": "execute_result"
    }
   ],
   "source": [
    "cust_llm.batch([\"woof woof woof\", \"meow meow meow\"])"
   ]
  },
  {
   "cell_type": "markdown",
   "id": "67dc9b26",
   "metadata": {},
   "source": [
    "# 缓存"
   ]
  },
  {
   "cell_type": "code",
   "execution_count": 15,
   "id": "f01e07f4",
   "metadata": {},
   "outputs": [],
   "source": [
    "from langchain.globals import set_llm_cache\n",
    "from langchain.cache import InMemoryCache"
   ]
  },
  {
   "cell_type": "code",
   "execution_count": null,
   "id": "551dc6a5",
   "metadata": {},
   "outputs": [
    {
     "name": "stdout",
     "output_type": "stream",
     "text": [
      "CPU times: total: 15.6 ms\n",
      "Wall time: 3.23 s\n"
     ]
    },
    {
     "data": {
      "text/plain": [
       "'有一天，小明去餐厅点了一碗面，结果面端上来的时候，他发现面条排成了一个“一”字。\\n\\n小明皱着眉喊服务员：“这面怎么都躺下了？”\\n\\n服务员淡定地回答：“先生，它们躺平了，不想卷。”\\n\\n😂'"
      ]
     },
     "execution_count": 16,
     "metadata": {},
     "output_type": "execute_result"
    }
   ],
   "source": [
    "%%time\n",
    "# 重复请求从缓存获取，速度极快\n",
    "set_llm_cache(InMemoryCache())\n",
    "\n",
    "# The first time, it is not yet in cache, so it should take longer\n",
    "llm.invoke(\"说一个笑话\")"
   ]
  },
  {
   "cell_type": "code",
   "execution_count": 17,
   "id": "9174d040",
   "metadata": {},
   "outputs": [
    {
     "name": "stdout",
     "output_type": "stream",
     "text": [
      "CPU times: total: 0 ns\n",
      "Wall time: 0 ns\n"
     ]
    },
    {
     "data": {
      "text/plain": [
       "'有一天，小明去餐厅点了一碗面，结果面端上来的时候，他发现面条排成了一个“一”字。\\n\\n小明皱着眉喊服务员：“这面怎么都躺下了？”\\n\\n服务员淡定地回答：“先生，它们躺平了，不想卷。”\\n\\n😂'"
      ]
     },
     "execution_count": 17,
     "metadata": {},
     "output_type": "execute_result"
    }
   ],
   "source": [
    "%%time\n",
    "\n",
    "# The second time it is, so it goes faster\n",
    "llm.invoke(\"说一个笑话\")"
   ]
  },
  {
   "cell_type": "markdown",
   "id": "c0ca0889",
   "metadata": {},
   "source": [
    "# 记录消耗tokens"
   ]
  },
  {
   "cell_type": "code",
   "execution_count": 19,
   "id": "c8d988cd",
   "metadata": {},
   "outputs": [
    {
     "ename": "ImportError",
     "evalue": "cannot import name 'get_generic_llms_callback' from 'langchain.callbacks' (c:\\Users\\Administrator\\.conda\\envs\\langchain-env\\lib\\site-packages\\langchain\\callbacks\\__init__.py)",
     "output_type": "error",
     "traceback": [
      "\u001b[1;31m---------------------------------------------------------------------------\u001b[0m",
      "\u001b[1;31mImportError\u001b[0m                               Traceback (most recent call last)",
      "Cell \u001b[1;32mIn[19], line 1\u001b[0m\n\u001b[1;32m----> 1\u001b[0m \u001b[38;5;28;01mfrom\u001b[39;00m\u001b[38;5;250m \u001b[39m\u001b[38;5;21;01mlangchain\u001b[39;00m\u001b[38;5;21;01m.\u001b[39;00m\u001b[38;5;21;01mcallbacks\u001b[39;00m\u001b[38;5;250m \u001b[39m\u001b[38;5;28;01mimport\u001b[39;00m get_generic_llms_callback\n\u001b[0;32m      3\u001b[0m \u001b[38;5;28;01mwith\u001b[39;00m get_generic_llms_callback() \u001b[38;5;28;01mas\u001b[39;00m cb:\n\u001b[0;32m      4\u001b[0m     llm\u001b[38;5;241m.\u001b[39minvoke(\u001b[38;5;124m\"\u001b[39m\u001b[38;5;124m有什么关于失业和通货膨胀的相关性的理论\u001b[39m\u001b[38;5;124m\"\u001b[39m)\n",
      "\u001b[1;31mImportError\u001b[0m: cannot import name 'get_generic_llms_callback' from 'langchain.callbacks' (c:\\Users\\Administrator\\.conda\\envs\\langchain-env\\lib\\site-packages\\langchain\\callbacks\\__init__.py)"
     ]
    }
   ],
   "source": [
    "from langchain.callbacks import get_generic_llms_callback\n",
    "\n",
    "with get_generic_llms_callback() as cb:\n",
    "    llm.invoke(\"有什么关于失业和通货膨胀的相关性的理论\")\n",
    "    print(cb)"
   ]
  }
 ],
 "metadata": {
  "kernelspec": {
   "display_name": "langchain-env",
   "language": "python",
   "name": "python3"
  },
  "language_info": {
   "codemirror_mode": {
    "name": "ipython",
    "version": 3
   },
   "file_extension": ".py",
   "mimetype": "text/x-python",
   "name": "python",
   "nbconvert_exporter": "python",
   "pygments_lexer": "ipython3",
   "version": "3.10.18"
  }
 },
 "nbformat": 4,
 "nbformat_minor": 5
}
