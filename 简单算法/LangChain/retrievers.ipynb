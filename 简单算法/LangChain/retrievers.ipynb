{
 "cells": [
  {
   "cell_type": "markdown",
   "id": "66ec086d",
   "metadata": {},
   "source": [
    "# 加载向量数据库"
   ]
  },
  {
   "cell_type": "code",
   "execution_count": null,
   "id": "9e9d0ea0",
   "metadata": {},
   "outputs": [
    {
     "ename": "",
     "evalue": "",
     "output_type": "error",
     "traceback": [
      "\u001b[1;31mRunning cells with 'langchain-py310 (Python 3.10.18)' requires the ipykernel package.\n",
      "\u001b[1;31m<a href='command:jupyter.createPythonEnvAndSelectController'>Create a Python Environment</a> with the required packages."
     ]
    }
   ],
   "source": [
    "from langchain_community.document_loaders import TextLoader\n",
    "from langchain_text_splitters import CharacterTextSplitter\n",
    "\n",
    "from langchain_openai import OpenAIEmbeddings\n",
    "from langchain_community.vectorstores import FAISS\n",
    "import os\n",
    "\n",
    "# 设置OpenAI API密钥 - 请替换为你的真实API密钥\n",
    "os.environ[\"OPENAI_API_KEY\"] = \"sk-your-actual-openai-api-key-here\"\n"
   ]
  },
  {
   "cell_type": "code",
   "execution_count": null,
   "id": "79bad32a",
   "metadata": {},
   "outputs": [],
   "source": []
  },
  {
   "cell_type": "code",
   "execution_count": null,
   "id": "example_cell",
   "metadata": {},
   "outputs": [
    {
     "ename": "",
     "evalue": "",
     "output_type": "error",
     "traceback": [
      "\u001b[1;31mRunning cells with 'langchain-py310 (Python 3.10.18)' requires the ipykernel package.\n",
      "\u001b[1;31m<a href='command:jupyter.createPythonEnvAndSelectController'>Create a Python Environment</a> with the required packages."
     ]
    }
   ],
   "source": [
    "# 加载和分割文档\n",
    "raw_documents = TextLoader(\"../examples/rag.txt\").load()\n",
    "text_splitter = CharacterTextSplitter(separator='\\n\\n\\n', chunk_size=200, chunk_overlap=20)\n",
    "documents = text_splitter.split_documents(raw_documents)\n",
    "\n",
    "# 创建OpenAI embeddings模型\n",
    "embeddings = OpenAIEmbeddings()\n",
    "\n",
    "# 创建向量数据库\n",
    "db = FAISS.from_documents(documents, embeddings)\n",
    "\n",
    "# 测试检索功能\n",
    "query = \"2024年高考\"\n",
    "docs = db.similarity_search(query, k=3)\n",
    "for i, doc in enumerate(docs):\n",
    "    print(f\"文档 {i+1}: {doc.page_content[:100]}...\")\n",
    "    print(\"---\")"
   ]
  },
  {
   "cell_type": "code",
   "execution_count": 1,
   "id": "d5fea318",
   "metadata": {},
   "outputs": [],
   "source": [
    "import os\n",
    "from dotenv import load_dotenv\n",
    "load_dotenv(override=True)\n",
    "DeepSeek_API_KEY = os.getenv(\"DEEPSEEK_API_KEY\")\n"
   ]
  },
  {
   "cell_type": "code",
   "execution_count": 2,
   "id": "66bc63ad",
   "metadata": {},
   "outputs": [
    {
     "name": "stdout",
     "output_type": "stream",
     "text": [
      "ChatCompletion(id='45df3f4e-c8f4-4183-bdb6-142accfccf3b', choices=[Choice(finish_reason='stop', index=0, logprobs=None, message=ChatCompletionMessage(content='你好，DeepSeek！😊 很高兴见到你！虽然我们都是AI助手，但能互相交流也是一件很有趣的事呢～有什么我可以帮你的吗？或者我们可以聊聊AI、技术或者其他你感兴趣的话题！', refusal=None, role='assistant', annotations=None, audio=None, function_call=None, tool_calls=None))], created=1754844838, model='deepseek-chat', object='chat.completion', service_tier=None, system_fingerprint='fp_8802369eaa_prod0623_fp8_kvcache', usage=CompletionUsage(completion_tokens=45, prompt_tokens=27, total_tokens=72, completion_tokens_details=None, prompt_tokens_details=PromptTokensDetails(audio_tokens=None, cached_tokens=0), prompt_cache_hit_tokens=0, prompt_cache_miss_tokens=27))\n",
      "你好，DeepSeek！😊 很高兴见到你！虽然我们都是AI助手，但能互相交流也是一件很有趣的事呢～有什么我可以帮你的吗？或者我们可以聊聊AI、技术或者其他你感兴趣的话题！\n"
     ]
    }
   ],
   "source": [
    "from openai import OpenAI\n",
    "# 初始化OpenAI客户端\n",
    "client = OpenAI(api_key=DeepSeek_API_KEY, base_url=\"https://api.deepseek.com\")\n",
    "\n",
    "# 调用openai的api，生成回答\n",
    "response = client.chat.completions.create(\n",
    "    model=\"deepseek-chat\",\n",
    "    messages=[\n",
    "        {\"role\": \"system\", \"content\": \"你是一个AI助手，请根据用户的问题，给出回答。\"},\n",
    "        {\"role\": \"user\", \"content\": \"你好，我是DeepSeek，一个AI助手。\"}\n",
    "    ]\n",
    ")\n",
    "print(response)\n",
    "print(response.choices[0].message.content)\n",
    "\n",
    "# 创建一个向量数据库\n",
    "\n",
    "\n",
    "\n",
    "\n",
    "\n"
   ]
  },
  {
   "cell_type": "code",
   "execution_count": 3,
   "id": "df889340",
   "metadata": {},
   "outputs": [
    {
     "name": "stdout",
     "output_type": "stream",
     "text": [
      "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\n"
     ]
    }
   ],
   "source": [
    "from dotenv import load_dotenv\n",
    "load_dotenv()\n",
    "\n",
    "# 检查一下是否加载成功\n",
    "import os\n",
    "print(os.getenv(\"LANGSMITH_API_KEY\"))\n"
   ]
  }
 ],
 "metadata": {
  "kernelspec": {
   "display_name": "langchain-env",
   "language": "python",
   "name": "python3"
  },
  "language_info": {
   "codemirror_mode": {
    "name": "ipython",
    "version": 3
   },
   "file_extension": ".py",
   "mimetype": "text/x-python",
   "name": "python",
   "nbconvert_exporter": "python",
   "pygments_lexer": "ipython3",
   "version": "3.10.18"
  }
 },
 "nbformat": 4,
 "nbformat_minor": 5
}
