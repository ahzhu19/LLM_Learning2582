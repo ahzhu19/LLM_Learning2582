{
 "cells": [
  {
   "cell_type": "markdown",
   "id": "9d7d863d",
   "metadata": {},
   "source": [
    "# TextLoader"
   ]
  },
  {
   "cell_type": "code",
   "execution_count": 3,
   "id": "abd8075d",
   "metadata": {},
   "outputs": [
    {
     "data": {
      "text/plain": [
       "[Document(metadata={'source': '../examples/sql.md'}, page_content=\"## 创建表\\n\\n```sql\\n# 分区表\\ncreate table test_t2(words string,frequency string) partitioned by (partdate string) row format delimited fields terminated by ',';\\n\\n# orc表\\nCREATE TABLE IF NOT EXISTS bank.account_orc (\\n  `id_card` int,\\n  `tran_time` string,\\n  `name` string,\\n  `cash` int\\n  )\\nstored as orc;\\n```\\n\\n# 插入数据\\n\\n```sql\\ninsert into tablename values('col1', 'col2');\\n\\n\\nINSERT INTO table_name (column1, column2, column3)\\nVALUES\\n(value1, value2, value3),\\n(value4, value5, value6),\\n(value7, value8, value9);\\n\\n\\nINSERT OVERWRITE TABLE tb\\nselect * from tb2\\n;\\n```\")]"
      ]
     },
     "execution_count": 3,
     "metadata": {},
     "output_type": "execute_result"
    }
   ],
   "source": [
    "from langchain_community.document_loaders import TextLoader\n",
    "\n",
    "loader = TextLoader(\"../examples/sql.md\")\n",
    "loader.load()"
   ]
  },
  {
   "cell_type": "code",
   "execution_count": 6,
   "id": "5094ca95",
   "metadata": {},
   "outputs": [
    {
     "data": {
      "text/plain": [
       "[Document(metadata={'source': '../examples/test.csv', 'row': 0}, page_content='id: 1\\nname: 张三\\ndegree: 本科'),\n",
       " Document(metadata={'source': '../examples/test.csv', 'row': 1}, page_content='id: 2\\nname: 李四\\ndegree: 硕士')]"
      ]
     },
     "execution_count": 6,
     "metadata": {},
     "output_type": "execute_result"
    }
   ],
   "source": [
    "from langchain_community.document_loaders.csv_loader import CSVLoader\n",
    "loader = CSVLoader(\"../examples/test.csv\")\n",
    "loader.load()"
   ]
  },
  {
   "cell_type": "code",
   "execution_count": 10,
   "id": "00220959",
   "metadata": {},
   "outputs": [
    {
     "name": "stderr",
     "output_type": "stream",
     "text": [
      "Previous trailer cannot be read: (\"invalid literal for int() with base 10: b'/Root'\",)\n",
      "Object 14 0 found\n",
      "Object 3 0 found\n",
      "Object 2 0 found\n",
      "Object 5 0 found\n",
      "Object 7 0 found\n",
      "Object 21 0 found\n",
      "Object 20 0 found\n",
      "Object 22 0 found\n",
      "Object 8 0 found\n",
      "Object 25 0 found\n",
      "Object 9 0 found\n",
      "Object 27 0 found\n",
      "Object 10 0 found\n",
      "Object 30 0 found\n",
      "Object 29 0 found\n",
      "Object 31 0 found\n",
      "Object 12 0 found\n",
      "Object 35 0 found\n",
      "Object 34 0 found\n",
      "Object 4 0 found\n"
     ]
    },
    {
     "data": {
      "text/plain": [
       "[Document(metadata={'producer': 'PyPDF', 'creator': 'PyPDF', 'creationdate': '', 'source': '../examples/sql.pdf', 'total_pages': 1, 'page': 0, 'page_label': '1'}, page_content=\"创建表  \\n插⼊数据  \\n# 分区表\\ncreate table test_t2(words string,frequency string) partitioned by (partdate string) row \\nformat delimited fields terminated by ',';\\n# orc表\\nCREATE TABLE IF NOT EXISTS bank.account_orc (\\n \\xa0`id_card` int,\\n \\xa0`tran_time` string,\\n \\xa0`name` string,\\n \\xa0`cash` int\\n \\xa0)\\nstored as orc;\\ninsert into tablename values('col1', 'col2');\\nINSERT INTO table_name (column1, column2, column3)\\nVALUES\\n(value1, value2, value3),\\n(value4, value5, value6),\\n(value7, value8, value9);\\nINSERT OVERWRITE TABLE tb\\nselect * from tb2\\n;\")]"
      ]
     },
     "execution_count": 10,
     "metadata": {},
     "output_type": "execute_result"
    }
   ],
   "source": [
    "from langchain_community.document_loaders import PyPDFLoader\n",
    "\n",
    "loader = PyPDFLoader(\"../examples/sql.pdf\")\n",
    "pages = loader.load()\n",
    "pages"
   ]
  },
  {
   "cell_type": "code",
   "execution_count": null,
   "id": "821de688",
   "metadata": {},
   "outputs": [],
   "source": [
    "from typing import AsyncIterator, Iterator\n",
    "\n",
    "from langchain_core.document_loaders import BaseLoader\n",
    "from langchain_core.documents import Document\n",
    "\n",
    "class CustomDocumentLoader(BaseLoader):\n",
    "    \"\"\"An example document loader that reads a file line by line.\"\"\"\n",
    "    def __init__(self, file_path: str):\n",
    "        self.file_path = file_path\n",
    "    \n",
    "    def lazy_load(self) -> Iterator[Document]:  # <-- Does not take any arguments\n",
    "        \"\"\"A lazy loader that reads a file line by line.\n",
    "\n",
    "        When you're implementing lazy load methods, you should use a generator\n",
    "        to yield documents one by one.\n",
    "        \"\"\"\n",
    "        with open(self.file_path, \"r\") as f:\n",
    "            line_number = 0\n",
    "            for line in f:\n",
    "                if not line.strip():\n",
    "                    continue\n",
    "                yield Document(\n",
    "                    page_content=line,\n",
    "                    metadata={\"line\": line_number,\n",
    "                              \"source\": self.file_path}\n",
    "                              )\n",
    "                line_number += 1\n",
    "\n",
    "\n",
    "\n",
    "\n",
    "\n",
    "\n",
    "                               \n",
    "                               "
   ]
  },
  {
   "cell_type": "markdown",
   "id": "c568f12d",
   "metadata": {},
   "source": []
  }
 ],
 "metadata": {
  "kernelspec": {
   "display_name": "langchain-env",
   "language": "python",
   "name": "python3"
  },
  "language_info": {
   "codemirror_mode": {
    "name": "ipython",
    "version": 3
   },
   "file_extension": ".py",
   "mimetype": "text/x-python",
   "name": "python",
   "nbconvert_exporter": "python",
   "pygments_lexer": "ipython3",
   "version": "3.10.18"
  }
 },
 "nbformat": 4,
 "nbformat_minor": 5
}
