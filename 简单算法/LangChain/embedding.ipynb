{
 "cells": [
  {
   "cell_type": "markdown",
   "id": "c8595b93",
   "metadata": {},
   "source": [
    "# Embedding"
   ]
  },
  {
   "cell_type": "code",
   "execution_count": 5,
   "id": "d3f98f14",
   "metadata": {},
   "outputs": [
    {
     "ename": "ImportError",
     "evalue": "cannot import name 'TongyiEmbeddings' from 'langchain_community.embeddings' (c:\\Users\\Administrator\\.conda\\envs\\langchain-env\\lib\\site-packages\\langchain_community\\embeddings\\__init__.py)",
     "output_type": "error",
     "traceback": [
      "\u001b[1;31m---------------------------------------------------------------------------\u001b[0m",
      "\u001b[1;31mImportError\u001b[0m                               Traceback (most recent call last)",
      "Cell \u001b[1;32mIn[5], line 2\u001b[0m\n\u001b[0;32m      1\u001b[0m \u001b[38;5;66;03m# 1. 导入必要的模块\u001b[39;00m\n\u001b[1;32m----> 2\u001b[0m \u001b[38;5;28;01mfrom\u001b[39;00m\u001b[38;5;250m \u001b[39m\u001b[38;5;21;01mlangchain_community\u001b[39;00m\u001b[38;5;21;01m.\u001b[39;00m\u001b[38;5;21;01membeddings\u001b[39;00m\u001b[38;5;250m \u001b[39m\u001b[38;5;28;01mimport\u001b[39;00m TongyiEmbeddings\n\u001b[0;32m      5\u001b[0m \u001b[38;5;66;03m# 3. 创建embeddings模型\u001b[39;00m\n\u001b[0;32m      6\u001b[0m embeddings_model \u001b[38;5;241m=\u001b[39m TongyiEmbeddings()\n",
      "\u001b[1;31mImportError\u001b[0m: cannot import name 'TongyiEmbeddings' from 'langchain_community.embeddings' (c:\\Users\\Administrator\\.conda\\envs\\langchain-env\\lib\\site-packages\\langchain_community\\embeddings\\__init__.py)"
     ]
    }
   ],
   "source": [
    "# 1. 导入必要的模块\n",
    "from langchain_community.embeddings import TongyiEmbeddings\n",
    "\n",
    "\n",
    "# 3. 创建embeddings模型\n",
    "embeddings_model = TongyiEmbeddings()\n",
    "\n",
    "# 4. 测试embeddings\n",
    "text = \"Hello, this is a test sentence.\"\n",
    "embeddings = embeddings_model.embed_query(text)\n",
    "print(f\"Embedding维度: {len(embeddings)}\")\n",
    "\n"
   ]
  },
  {
   "cell_type": "code",
   "execution_count": null,
   "id": "2833b5b4",
   "metadata": {},
   "outputs": [],
   "source": []
  },
  {
   "cell_type": "markdown",
   "id": "4bc0ef19",
   "metadata": {},
   "source": [
    "##### 建一个“智能”的嵌入器 (cached_embedder)，它在为文本生成嵌入向量之前，会先检查一下本地的缓存里是否已经有了这个文本的嵌入。如果有，就直接从缓存读取，如果没有，才去调用真正的嵌入模型，并将新生成的结果存入缓存以备后用。\n"
   ]
  },
  {
   "cell_type": "code",
   "execution_count": null,
   "id": "29126035",
   "metadata": {},
   "outputs": [],
   "source": [
    "from langchain.embeddings import CacheBackedEmbeddings\n",
    "from langchain.storage import LocalFileStore\n",
    "\n",
    "store = LocalFileStore(\"./cache/\")\n",
    "\n",
    "cached_embedder = CacheBackedEmbeddings.from_bytes_store(\n",
    "    embeddings_model, store, namespace=embeddings_model.model_name\n",
    ")"
   ]
  },
  {
   "cell_type": "code",
   "execution_count": null,
   "id": "3cf27bd6",
   "metadata": {},
   "outputs": [],
   "source": [
    "%%time\n",
    "cached_embedder.embed_documents(texts)"
   ]
  },
  {
   "cell_type": "markdown",
   "id": "c9e6cf35",
   "metadata": {},
   "source": []
  },
  {
   "cell_type": "code",
   "execution_count": null,
   "id": "59b96dd5",
   "metadata": {},
   "outputs": [],
   "source": []
  }
 ],
 "metadata": {
  "kernelspec": {
   "display_name": "langchain-env",
   "language": "python",
   "name": "python3"
  },
  "language_info": {
   "codemirror_mode": {
    "name": "ipython",
    "version": 3
   },
   "file_extension": ".py",
   "mimetype": "text/x-python",
   "name": "python",
   "nbconvert_exporter": "python",
   "pygments_lexer": "ipython3",
   "version": "3.10.18"
  }
 },
 "nbformat": 4,
 "nbformat_minor": 5
}
