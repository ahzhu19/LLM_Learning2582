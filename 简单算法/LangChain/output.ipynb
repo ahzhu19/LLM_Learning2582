{
 "cells": [
  {
   "cell_type": "markdown",
   "id": "f34d8021",
   "metadata": {},
   "source": [
    "####  PydanticOutputParser 的作用是，将大语言模型（LLM）返回的、非结构化的文本字符串，强制转换成一个你预先定义好的、具有特定结构的、经过验证的 Python 对象。\n"
   ]
  },
  {
   "cell_type": "code",
   "execution_count": 6,
   "id": "2f25a810",
   "metadata": {},
   "outputs": [],
   "source": [
    "from langchain_community.chat_models import ChatTongyi\n",
    "\n",
    "chat = ChatTongyi()"
   ]
  },
  {
   "cell_type": "code",
   "execution_count": 9,
   "id": "46688c3e",
   "metadata": {},
   "outputs": [
    {
     "name": "stdout",
     "output_type": "stream",
     "text": [
      "setup='为什么数学书总是很忧郁？' punchline='因为它有太多的问题。'\n"
     ]
    }
   ],
   "source": [
    "from langchain.output_parsers import PydanticOutputParser\n",
    "from langchain_core.prompts import PromptTemplate\n",
    "from pydantic import BaseModel, Field, field_validator  # 使用新版本\n",
    "\n",
    "# 定义数据结构\n",
    "class Joke(BaseModel):\n",
    "    setup: str = Field(description=\"开启一个笑话的问题\")\n",
    "    punchline: str = Field(description=\"解答笑话的答案\")\n",
    "\n",
    "    # 新版本的验证器语法\n",
    "    @field_validator(\"setup\")\n",
    "    @classmethod\n",
    "    def question_ends_with_question_mark(cls, v):\n",
    "        if v[-1] != \"？\":\n",
    "            raise ValueError(\"Badly formed question!\")\n",
    "        return v\n",
    "\n",
    "# 创建解析器\n",
    "parser = PydanticOutputParser(pydantic_object=Joke)\n",
    "\n",
    "# 创建提示模板\n",
    "prompt = PromptTemplate(\n",
    "    template=\"根据用户的输入进行解答.\\n{format_instructions}\\n{query}\\n\",\n",
    "    input_variables=[\"query\"],\n",
    "    partial_variables={\"format_instructions\": parser.get_format_instructions()},\n",
    ")\n",
    "\n",
    "# 创建链\n",
    "chain = prompt | chat | parser\n",
    "result = chain.invoke({\"query\": \"讲一个笑话\"})\n",
    "print(result)"
   ]
  },
  {
   "cell_type": "code",
   "execution_count": 10,
   "id": "e1152ae0",
   "metadata": {},
   "outputs": [
    {
     "data": {
      "text/plain": [
       "'The output should be formatted as a JSON instance that conforms to the JSON schema below.\\n\\nAs an example, for the schema {\"properties\": {\"foo\": {\"title\": \"Foo\", \"description\": \"a list of strings\", \"type\": \"array\", \"items\": {\"type\": \"string\"}}}, \"required\": [\"foo\"]}\\nthe object {\"foo\": [\"bar\", \"baz\"]} is a well-formatted instance of the schema. The object {\"properties\": {\"foo\": [\"bar\", \"baz\"]}} is not well-formatted.\\n\\nHere is the output schema:\\n```\\n{\"properties\": {\"setup\": {\"description\": \"开启一个笑话的问题\", \"title\": \"Setup\", \"type\": \"string\"}, \"punchline\": {\"description\": \"解答笑话的答案\", \"title\": \"Punchline\", \"type\": \"string\"}}, \"required\": [\"setup\", \"punchline\"]}\\n```'"
      ]
     },
     "execution_count": 10,
     "metadata": {},
     "output_type": "execute_result"
    }
   ],
   "source": [
    "parser.get_format_instructions()"
   ]
  },
  {
   "cell_type": "markdown",
   "id": "52a710ba",
   "metadata": {},
   "source": []
  }
 ],
 "metadata": {
  "kernelspec": {
   "display_name": "langchain-env",
   "language": "python",
   "name": "python3"
  },
  "language_info": {
   "codemirror_mode": {
    "name": "ipython",
    "version": 3
   },
   "file_extension": ".py",
   "mimetype": "text/x-python",
   "name": "python",
   "nbconvert_exporter": "python",
   "pygments_lexer": "ipython3",
   "version": "3.10.18"
  }
 },
 "nbformat": 4,
 "nbformat_minor": 5
}
